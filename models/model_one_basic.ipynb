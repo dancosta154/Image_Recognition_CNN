{
 "cells": [
  {
   "cell_type": "code",
   "execution_count": 29,
   "id": "fb68603c-7732-416b-b618-7a6b8198b344",
   "metadata": {},
   "outputs": [],
   "source": [
    "import pandas as pd\n",
    "import numpy as np\n",
    "import matplotlib.pyplot as plt\n",
    "import seaborn as sns\n",
    "import math\n",
    "import os\n",
    "\n",
    "import cv2\n",
    "import glob\n",
    "from PIL import Image\n",
    "\n",
    "from keras.preprocessing.image import ImageDataGenerator\n",
    "\n",
    "from tensorflow.keras.models import Sequential\n",
    "from tensorflow.keras.layers import Dense, Dropout, Flatten, Conv2D, MaxPooling2D\n",
    "from tensorflow.keras import utils\n",
    "from tensorflow.keras.datasets import mnist"
   ]
  },
  {
   "cell_type": "code",
   "execution_count": null,
   "id": "50ce9ea6-af1f-4029-911e-bc8ce97ddedc",
   "metadata": {},
   "outputs": [],
   "source": [
    "# image dataset from directory"
   ]
  },
  {
   "cell_type": "code",
   "execution_count": 57,
   "id": "834c72b2-2e31-46b8-83c1-27dda63af50b",
   "metadata": {},
   "outputs": [],
   "source": [
    "train_path = 'wildfire_smoke_data/train'\n",
    "test_path = 'wildfire_smoke_data/test'"
   ]
  },
  {
   "cell_type": "code",
   "execution_count": 58,
   "id": "bb808244-d472-4ef4-b331-f9934acc0a59",
   "metadata": {},
   "outputs": [],
   "source": [
    "#apply image augmentation\n",
    "train_image_generator =  ImageDataGenerator(\n",
    "    rescale=1. / 255,\n",
    "    # shear_range=0.2,\n",
    "    # zoom_range=0.2,\n",
    "    # horizontal_flip=True)\n",
    "\"\"\"ImageDataGenerator(\n",
    "    rescale=1./255)\"\"\"\n",
    "    \n",
    "test_image_generator = ImageDataGenerator(rescale=1./255)"
   ]
  },
  {
   "cell_type": "code",
   "execution_count": 7,
   "id": "1a3a948c-6773-410d-afba-b0ea77214a2b",
   "metadata": {},
   "outputs": [
    {
     "name": "stdout",
     "output_type": "stream",
     "text": [
      "1498413993_-02400.jpg  1529018785_-01920.jpg  1562957780_-01561.jpg\n",
      "1498414053_-02340.jpg  1529018845_-01860.jpg  1562957840_-01501.jpg\n",
      "1498414113_-02280.jpg  1529018905_-01800.jpg  1562957900_-01441.jpg\n",
      "1498414533_-01860.jpg  1529018965_-01740.jpg  1562957960_-01381.jpg\n",
      "1498414593_-01800.jpg  1529019025_-01680.jpg  1562958020_-01321.jpg\n",
      "1498414653_-01740.jpg  1529019685_-01020.jpg  1562958262_-01079.jpg\n",
      "1498415493_-00900.jpg  1529019745_-00960.jpg  1562958320_-01021.jpg\n",
      "1498415553_-00840.jpg  1529019805_-00900.jpg  1562958380_-00961.jpg\n",
      "1498416093_-00300.jpg  1529020405_-00300.jpg  1562959400_+00059.jpg\n",
      "1498416153_-00240.jpg  1529020465_-00240.jpg  1563120607_-01980.jpg\n",
      "1498416213_-00180.jpg  1529020525_-00180.jpg  1563120667_-01920.jpg\n",
      "1498416273_-00120.jpg  1530737965_-01080.jpg  1563120907_-01680.jpg\n",
      "1512672424_-01560.jpg  1530738025_-01020.jpg  1563120967_-01620.jpg\n",
      "1512672484_-01500.jpg  1530738085_-00960.jpg  1563121027_-01560.jpg\n",
      "1512672544_-01440.jpg  1530738685_-00360.jpg  1563133223_-01800.jpg\n",
      "1512672604_-01380.jpg  1530738745_-00300.jpg  1563133283_-01740.jpg\n",
      "1512672784_-01200.jpg  1530738805_-00240.jpg  1563133343_-01680.jpg\n",
      "1512672844_-01140.jpg  1530738985_-00060.jpg  1563133403_-01620.jpg\n",
      "1512672904_-01080.jpg  1530739045_+00000.jpg  1563133583_-01440.jpg\n",
      "1512673864_-00120.jpg  1530739105_+00060.jpg  1563133643_-01380.jpg\n",
      "1512673924_-00060.jpg  1530900181_-01500.jpg  1563133703_-01320.jpg\n",
      "1512673984_+00000.jpg  1530900241_-01440.jpg  1563133763_-01260.jpg\n",
      "1528755846_-01560.jpg  1530900301_-01380.jpg  1563225923_-01200.jpg\n",
      "1528755906_-01500.jpg  1530901201_-00480.jpg  1563225983_-01140.jpg\n",
      "1528755966_-01440.jpg  1530901261_-00420.jpg  1563226043_-01080.jpg\n",
      "1528756026_-01380.jpg  1530901321_-00360.jpg  1563227483_+00360.jpg\n",
      "1528756086_-01320.jpg  1532543965_-00960.jpg  1563227543_+00420.jpg\n",
      "1528756146_-01260.jpg  1532544025_-00900.jpg  1563227603_+00480.jpg\n",
      "1528756206_-01200.jpg  1532544085_-00840.jpg  1563227665_+00542.jpg\n",
      "1528756266_-01140.jpg  1532544145_-00780.jpg  1563228503_+01380.jpg\n",
      "1528756326_-01080.jpg  1532544205_-00720.jpg  1563228563_+01440.jpg\n",
      "1528756386_-01020.jpg  1532544265_-00660.jpg  1563228623_+01500.jpg\n",
      "1528756446_-00960.jpg  1532544325_-00600.jpg  1564684421_-00780.jpg\n",
      "1528999760_-01200.jpg  1532544565_-00360.jpg  1564684481_-00720.jpg\n",
      "1528999820_-01140.jpg  1532544625_-00300.jpg  1564684541_-00660.jpg\n",
      "1528999880_-01080.jpg  1532544685_-00240.jpg  1565729562_-01680.jpg\n",
      "1529000300_-00660.jpg  1559166365_-01020.jpg  1565729622_-01620.jpg\n",
      "1529000360_-00600.jpg  1559166425_-00960.jpg  1565729682_-01560.jpg\n",
      "1529000420_-00540.jpg  1559166485_-00900.jpg  1565730462_-00780.jpg\n",
      "1529018665_-02040.jpg  1562957660_-01681.jpg  1565730522_-00720.jpg\n",
      "1529018725_-01980.jpg  1562957720_-01621.jpg  1565730582_-00660.jpg\n"
     ]
    }
   ],
   "source": [
    "!ls wildfire_smoke_data/test/no_smoke"
   ]
  },
  {
   "cell_type": "code",
   "execution_count": null,
   "id": "e1d53e0d-baac-4070-9382-b19e61575ae4",
   "metadata": {},
   "outputs": [],
   "source": []
  },
  {
   "cell_type": "code",
   "execution_count": 6,
   "id": "c2214539-fe55-4138-b112-ffcbb8db6342",
   "metadata": {},
   "outputs": [],
   "source": [
    "# !ls wildfire_smoke_data/train/smoke"
   ]
  },
  {
   "cell_type": "code",
   "execution_count": 59,
   "id": "1c4cdda2-03c2-4e16-9c39-1b2ecef59f34",
   "metadata": {},
   "outputs": [
    {
     "name": "stdout",
     "output_type": "stream",
     "text": [
      "Found 1075 images belonging to 2 classes.\n",
      "Found 266 images belonging to 2 classes.\n"
     ]
    }
   ],
   "source": [
    "# Variables for model\n",
    "batch_size = 64\n",
    "image_width = 150 \n",
    "image_height = 150 \n",
    "classes = ['no_smoke','smoke']\n",
    "color_mode=\"rgb\"\n",
    "IMAGE_WIDTH_HEIGHT = (image_width, image_height)\n",
    "\n",
    "class_mode = 'binary'\n",
    "\n",
    "#create train data generator flowing from train_input_folder\n",
    "train_generator = train_image_generator.flow_from_directory(\n",
    "            train_path,\n",
    "            target_size=IMAGE_WIDTH_HEIGHT,\n",
    "            batch_size=batch_size,\n",
    "            classes=classes,\n",
    "            color_mode=color_mode,\n",
    "            class_mode=class_mode)\n",
    "            \n",
    "#create validation data generator flowing from test_input_folder\n",
    "test_generator = test_image_generator.flow_from_directory(\n",
    "        test_path,\n",
    "        target_size=IMAGE_WIDTH_HEIGHT,\n",
    "        batch_size=batch_size,\n",
    "        classes=classes,\n",
    "        color_mode=color_mode,\n",
    "        class_mode=class_mode)"
   ]
  },
  {
   "cell_type": "code",
   "execution_count": 60,
   "id": "e4f86171-5cf3-4a86-a800-d441f25e5845",
   "metadata": {},
   "outputs": [
    {
     "name": "stdout",
     "output_type": "stream",
     "text": [
      "Epoch 1/10\n",
      "17/17 [==============================] - 98s 6s/step - loss: 0.8167 - accuracy: 0.5107 - val_loss: 0.6937 - val_accuracy: 0.4624\n",
      "Epoch 2/10\n",
      "17/17 [==============================] - 93s 6s/step - loss: 0.6923 - accuracy: 0.5116 - val_loss: 0.6914 - val_accuracy: 0.5376\n",
      "Epoch 3/10\n",
      "17/17 [==============================] - 93s 6s/step - loss: 0.6902 - accuracy: 0.5395 - val_loss: 0.6916 - val_accuracy: 0.4699\n",
      "Epoch 4/10\n",
      "17/17 [==============================] - 93s 6s/step - loss: 0.6912 - accuracy: 0.4986 - val_loss: 0.6907 - val_accuracy: 0.5376\n",
      "Epoch 5/10\n",
      "17/17 [==============================] - 94s 6s/step - loss: 0.6899 - accuracy: 0.5274 - val_loss: 0.6899 - val_accuracy: 0.5376\n",
      "Epoch 6/10\n",
      "17/17 [==============================] - 95s 6s/step - loss: 0.6903 - accuracy: 0.5405 - val_loss: 0.6898 - val_accuracy: 0.5376\n",
      "Epoch 7/10\n",
      "17/17 [==============================] - 94s 6s/step - loss: 0.6851 - accuracy: 0.5358 - val_loss: 0.6909 - val_accuracy: 0.5376\n",
      "Epoch 8/10\n",
      "17/17 [==============================] - 94s 6s/step - loss: 0.6841 - accuracy: 0.5321 - val_loss: 0.6831 - val_accuracy: 0.5376\n",
      "Epoch 9/10\n",
      "17/17 [==============================] - 94s 6s/step - loss: 0.6778 - accuracy: 0.5340 - val_loss: 0.6842 - val_accuracy: 0.5376\n",
      "Epoch 10/10\n",
      "17/17 [==============================] - 94s 6s/step - loss: 0.6815 - accuracy: 0.5293 - val_loss: 0.6817 - val_accuracy: 0.5376\n"
     ]
    }
   ],
   "source": [
    "cnn_model = Sequential()\n",
    "cnn_model.add(Conv2D(filters=16,                                   # number of filters\n",
    "                       kernel_size=(3,3),                          # height/width of filter\n",
    "                       activation='relu',                          # activation function \n",
    "                       input_shape=(image_width,image_height,3)))  # shape of input (image)\n",
    "cnn_model.add(MaxPooling2D(pool_size=(2,2)))                       # dimensions of region of pooling\n",
    "cnn_model.add(Conv2D(64,\n",
    "                       kernel_size=(3,3),\n",
    "                       activation='relu'))\n",
    "cnn_model.add(MaxPooling2D(pool_size=(2,2)))\n",
    "cnn_model.add(Flatten())\n",
    "cnn_model.add(Dense(64, activation='relu'))\n",
    "cnn_model.add(Dropout(0.5))\n",
    "cnn_model.add(Dense(32, activation='relu'))\n",
    "cnn_model.add(Dropout(0.5))\n",
    "cnn_model.add(Dense(1, activation='sigmoid'))\n",
    "# Compile model\n",
    "cnn_model.compile(loss='binary_crossentropy',\n",
    "                    optimizer='adam',\n",
    "                    metrics=['accuracy'])\n",
    "# Fit model on training data\n",
    "history = cnn_model.fit(train_generator,\n",
    "                          batch_size=128,\n",
    "                          validation_data=test_generator,\n",
    "                          epochs=10)"
   ]
  },
  {
   "cell_type": "code",
   "execution_count": 56,
   "id": "13f29ad1-abb8-4b6b-8ea6-b052cfb1c12b",
   "metadata": {},
   "outputs": [
    {
     "data": {
      "text/plain": [
       "Text(0.5, 0, 'epoch')"
      ]
     },
     "execution_count": 56,
     "metadata": {},
     "output_type": "execute_result"
    },
    {
     "data": {
      "image/png": "[encoded data removed]",
      "text/plain": [
       "<Figure size 576x576 with 2 Axes>"
      ]
     },
     "metadata": {
      "needs_background": "light"
     },
     "output_type": "display_data"
    }
   ],
   "source": [
    "%matplotlib inline\n",
    "import matplotlib.pyplot as plt\n",
    "import matplotlib.image as mpimg\n",
    "\n",
    "acc = history.history['accuracy']\n",
    "val_acc = history.history['val_accuracy']\n",
    "\n",
    "loss = history.history['loss']\n",
    "val_loss = history.history['val_loss']\n",
    "\n",
    "plt.figure(figsize=(8, 8))\n",
    "plt.subplot(2, 1, 1)\n",
    "plt.plot(acc, label='Training Accuracy')\n",
    "plt.plot(val_acc, label='Testing Accuracy')\n",
    "plt.legend(loc='lower right')\n",
    "plt.ylabel('Accuracy')\n",
    "plt.ylim([min(plt.ylim()), 1])\n",
    "plt.title('Training and Testing Accuracy')\n",
    "\n",
    "plt.subplot(2, 1, 2)\n",
    "plt.plot(loss, label='Training Loss')\n",
    "plt.plot(val_loss, label='Testing Loss')\n",
    "plt.legend(loc='upper right')\n",
    "plt.ylabel('Binary Cross Entropy')\n",
    "plt.ylim([0, 1.0])\n",
    "plt.title('Training and Testing Loss')\n",
    "plt.xlabel('epoch')"
   ]
  },
  {
   "cell_type": "code",
   "execution_count": null,
   "id": "a479c868-8524-4aff-9247-6bf50ce20ebd",
   "metadata": {},
   "outputs": [],
   "source": []
  }
 ],
 "metadata": {
  "environment": {
   "kernel": "python3",
   "name": "tf2-gpu.2-7.m87",
   "type": "gcloud",
   "uri": "gcr.io/deeplearning-platform-release/tf2-gpu.2-7:m87"
  },
  "kernelspec": {
   "display_name": "Python 3",
   "language": "python",
   "name": "python3"
  },
  "language_info": {
   "codemirror_mode": {
    "name": "ipython",
    "version": 3
   },
   "file_extension": ".py",
   "mimetype": "text/x-python",
   "name": "python",
   "nbconvert_exporter": "python",
   "pygments_lexer": "ipython3",
   "version": "3.7.12"
  }
 },
 "nbformat": 4,
 "nbformat_minor": 5
}
