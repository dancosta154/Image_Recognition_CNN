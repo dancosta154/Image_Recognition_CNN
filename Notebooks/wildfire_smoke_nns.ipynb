{
 "cells": [
  {
   "cell_type": "code",
   "execution_count": 1,
   "id": "4de09791-66d8-426e-8cab-6b779ba60556",
   "metadata": {},
   "outputs": [],
   "source": [
    "import pandas as pd\n",
    "import numpy as np\n",
    "import matplotlib.pyplot as plt\n",
    "import seaborn as sns"
   ]
  },
  {
   "cell_type": "code",
   "execution_count": 21,
   "id": "8627fa61-0404-46c3-bb22-7a3bc78a5dd0",
   "metadata": {},
   "outputs": [
    {
     "data": {
      "text/html": [
       "<div>\n",
       "<style scoped>\n",
       "    .dataframe tbody tr th:only-of-type {\n",
       "        vertical-align: middle;\n",
       "    }\n",
       "\n",
       "    .dataframe tbody tr th {\n",
       "        vertical-align: top;\n",
       "    }\n",
       "\n",
       "    .dataframe thead th {\n",
       "        text-align: right;\n",
       "    }\n",
       "</style>\n",
       "<table border=\"1\" class=\"dataframe\">\n",
       "  <thead>\n",
       "    <tr style=\"text-align: right;\">\n",
       "      <th></th>\n",
       "      <th>filename</th>\n",
       "      <th>width</th>\n",
       "      <th>height</th>\n",
       "      <th>class</th>\n",
       "      <th>xmin</th>\n",
       "      <th>ymin</th>\n",
       "      <th>xmax</th>\n",
       "      <th>ymax</th>\n",
       "    </tr>\n",
       "  </thead>\n",
       "  <tbody>\n",
       "    <tr>\n",
       "      <th>0</th>\n",
       "      <td>ck0qd8gs6ko7j0721x25cv4o3_jpeg.rf.005f5707706e...</td>\n",
       "      <td>640</td>\n",
       "      <td>480</td>\n",
       "      <td>smoke</td>\n",
       "      <td>125</td>\n",
       "      <td>190</td>\n",
       "      <td>177</td>\n",
       "      <td>286</td>\n",
       "    </tr>\n",
       "    <tr>\n",
       "      <th>1</th>\n",
       "      <td>ck0t40rhdz68s0a46ekx049a6_jpeg.rf.00403179fe5f...</td>\n",
       "      <td>640</td>\n",
       "      <td>480</td>\n",
       "      <td>smoke</td>\n",
       "      <td>326</td>\n",
       "      <td>207</td>\n",
       "      <td>494</td>\n",
       "      <td>249</td>\n",
       "    </tr>\n",
       "    <tr>\n",
       "      <th>2</th>\n",
       "      <td>ck0m0ch9ugnna07940o8x989j_jpeg.rf.0101cdb46a16...</td>\n",
       "      <td>640</td>\n",
       "      <td>480</td>\n",
       "      <td>smoke</td>\n",
       "      <td>308</td>\n",
       "      <td>166</td>\n",
       "      <td>582</td>\n",
       "      <td>257</td>\n",
       "    </tr>\n",
       "    <tr>\n",
       "      <th>3</th>\n",
       "      <td>ck0rr6bfa9b3w0721aw5unwdy_jpeg.rf.00982c053d66...</td>\n",
       "      <td>640</td>\n",
       "      <td>480</td>\n",
       "      <td>smoke</td>\n",
       "      <td>241</td>\n",
       "      <td>204</td>\n",
       "      <td>310</td>\n",
       "      <td>244</td>\n",
       "    </tr>\n",
       "    <tr>\n",
       "      <th>4</th>\n",
       "      <td>ck0uk75x5ysls0721e5a9j891_jpeg.rf.00d7fd8503e1...</td>\n",
       "      <td>640</td>\n",
       "      <td>480</td>\n",
       "      <td>smoke</td>\n",
       "      <td>523</td>\n",
       "      <td>208</td>\n",
       "      <td>619</td>\n",
       "      <td>288</td>\n",
       "    </tr>\n",
       "  </tbody>\n",
       "</table>\n",
       "</div>"
      ],
      "text/plain": [
       "                                            filename  width  height  class  \\\n",
       "0  ck0qd8gs6ko7j0721x25cv4o3_jpeg.rf.005f5707706e...    640     480  smoke   \n",
       "1  ck0t40rhdz68s0a46ekx049a6_jpeg.rf.00403179fe5f...    640     480  smoke   \n",
       "2  ck0m0ch9ugnna07940o8x989j_jpeg.rf.0101cdb46a16...    640     480  smoke   \n",
       "3  ck0rr6bfa9b3w0721aw5unwdy_jpeg.rf.00982c053d66...    640     480  smoke   \n",
       "4  ck0uk75x5ysls0721e5a9j891_jpeg.rf.00d7fd8503e1...    640     480  smoke   \n",
       "\n",
       "   xmin  ymin  xmax  ymax  \n",
       "0   125   190   177   286  \n",
       "1   326   207   494   249  \n",
       "2   308   166   582   257  \n",
       "3   241   204   310   244  \n",
       "4   523   208   619   288  "
      ]
     },
     "execution_count": 21,
     "metadata": {},
     "output_type": "execute_result"
    }
   ],
   "source": [
    "df = pd.read_csv('./Data/wildfire_smoke/train/_annotations.csv')\n",
    "df.head()"
   ]
  },
  {
   "cell_type": "code",
   "execution_count": null,
   "id": "1d0490e6-6edc-4dc6-8a9d-8992a7a8dd87",
   "metadata": {},
   "outputs": [],
   "source": []
  }
 ],
 "metadata": {
  "kernelspec": {
   "display_name": "Python 3 (ipykernel)",
   "language": "python",
   "name": "python3"
  },
  "language_info": {
   "codemirror_mode": {
    "name": "ipython",
    "version": 3
   },
   "file_extension": ".py",
   "mimetype": "text/x-python",
   "name": "python",
   "nbconvert_exporter": "python",
   "pygments_lexer": "ipython3",
   "version": "3.9.7"
  }
 },
 "nbformat": 4,
 "nbformat_minor": 5
}
