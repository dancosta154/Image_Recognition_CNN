{
 "cells": [
  {
   "cell_type": "markdown",
   "id": "8f3ed47c-d204-46b3-a42b-47e538e50806",
   "metadata": {},
   "source": [
    "### Model Info: loss: loss: 0.1195 - accuracy: 0.9512 - val_loss: 0.1865 - val_accuracy: 0.9396\n",
    "Data: Grid\n",
    "\n",
    "ImageDataGenerator( \\\n",
    "    rescale=1. / 255, \\\n",
    "    shear_range=0.2, \\\n",
    "    zoom_range=0.2, \\\n",
    "    horizontal_flip=True)\n",
    "   \n",
    "batch_size = 64 \\\n",
    "image_width = 224 \\\n",
    "image_height = 224 \n",
    "    \n",
    "optimizer='rmsprop\n",
    "epochs=20"
   ]
  },
  {
   "cell_type": "code",
   "execution_count": 35,
   "id": "fb68603c-7732-416b-b618-7a6b8198b344",
   "metadata": {},
   "outputs": [],
   "source": [
    "import pandas as pd\n",
    "import numpy as np\n",
    "import matplotlib.pyplot as plt\n",
    "\n",
    "import datetime, os\n",
    "import tensorflow as tf\n",
    "\n",
    "from keras.preprocessing.image import ImageDataGenerator\n",
    "from tensorflow.keras.models import Sequential\n",
    "from tensorflow.keras.layers import Activation, Dense, Dropout, Flatten, Conv2D, MaxPooling2D"
   ]
  },
  {
   "cell_type": "code",
   "execution_count": 36,
   "id": "834c72b2-2e31-46b8-83c1-27dda63af50b",
   "metadata": {},
   "outputs": [],
   "source": [
    "train_path = 'capstone/grid_wildfire_smoke/train'\n",
    "test_path = 'capstone/grid_wildfire_smoke/test'"
   ]
  },
  {
   "cell_type": "code",
   "execution_count": 37,
   "id": "bb808244-d472-4ef4-b331-f9934acc0a59",
   "metadata": {},
   "outputs": [],
   "source": [
    "#apply image augmentation\n",
    "train_image_generator = ImageDataGenerator(\n",
    "    rescale=1. / 255,\n",
    "    shear_range=0.2,\n",
    "    zoom_range=0.2,\n",
    "    horizontal_flip=True)\n",
    "\"\"\"ImageDataGenerator(\n",
    "    rescale=1./255)\"\"\"\n",
    "    \n",
    "test_image_generator = ImageDataGenerator(rescale=1./255)"
   ]
  },
  {
   "cell_type": "code",
   "execution_count": 38,
   "id": "1c4cdda2-03c2-4e16-9c39-1b2ecef59f34",
   "metadata": {},
   "outputs": [
    {
     "name": "stdout",
     "output_type": "stream",
     "text": [
      "Found 2502 images belonging to 2 classes.\n",
      "Found 2468 images belonging to 2 classes.\n"
     ]
    }
   ],
   "source": [
    "# Variables for model\n",
    "batch_size = 64\n",
    "image_width = 224 \n",
    "image_height = 224 \n",
    "classes = ['no_smoke','smoke']\n",
    "color_mode=\"rgb\"\n",
    "IMAGE_WIDTH_HEIGHT = (image_width, image_height)\n",
    "\n",
    "class_mode = 'binary'\n",
    "\n",
    "#create train data generator flowing from train_input_folder\n",
    "train_generator = train_image_generator.flow_from_directory(\n",
    "            train_path,\n",
    "            target_size=IMAGE_WIDTH_HEIGHT,\n",
    "            batch_size=batch_size,\n",
    "            classes=classes,\n",
    "            color_mode=color_mode,\n",
    "            class_mode=class_mode)\n",
    "            \n",
    "#create validation data generator flowing from test_input_folder\n",
    "test_generator = test_image_generator.flow_from_directory(\n",
    "        test_path,\n",
    "        target_size=IMAGE_WIDTH_HEIGHT,\n",
    "        batch_size=batch_size,\n",
    "        classes=classes,\n",
    "        color_mode=color_mode,\n",
    "        class_mode=class_mode)"
   ]
  },
  {
   "cell_type": "code",
   "execution_count": 39,
   "id": "bb542807-81e0-4d3a-98f9-942511331dfa",
   "metadata": {},
   "outputs": [],
   "source": [
    "# img_input = layers.Input(shape=(image_width, image_height, 3))\n",
    "input_shape = (image_width, image_height, 3)"
   ]
  },
  {
   "cell_type": "code",
   "execution_count": 40,
   "id": "79bf1199-def5-4131-8e9f-68a15a6f9814",
   "metadata": {},
   "outputs": [
    {
     "name": "stderr",
     "output_type": "stream",
     "text": [
      "2022-04-07 01:33:22.042629: I tensorflow/core/common_runtime/process_util.cc:146] Creating new thread pool with default inter op setting: 2. Tune using inter_op_parallelism_threads for best performance.\n"
     ]
    }
   ],
   "source": [
    "model = Sequential()\n",
    "model.add(Conv2D(32, \n",
    "                 kernel_size=(3, 3),\n",
    "                 activation='relu',\n",
    "                 input_shape=input_shape))\n",
    "model.add(MaxPooling2D(pool_size=(2, 2)))\n",
    "\n",
    "model.add(Conv2D(32, kernel_size=(3, 3), activation='relu'))\n",
    "model.add(MaxPooling2D(pool_size=(2, 2)))\n",
    "\n",
    "model.add(Conv2D(64, kernel_size=(3, 3), activation='relu'))\n",
    "model.add(MaxPooling2D(pool_size=(2, 2)))\n",
    "\n",
    "model.add(Flatten())\n",
    "model.add(Dense(64, activation='relu'))\n",
    "model.add(Dropout(0.5))\n",
    "# output layer - binary // sigmoid\n",
    "model.add(Dense(1))\n",
    "model.add(Activation('sigmoid'))\n",
    "\n",
    "model.compile(loss='binary_crossentropy',\n",
    "              optimizer='rmsprop',\n",
    "              metrics=['accuracy'])\n"
   ]
  },
  {
   "cell_type": "code",
   "execution_count": 41,
   "id": "94b8dec9-2842-41d6-bc20-37774327c2f3",
   "metadata": {},
   "outputs": [
    {
     "name": "stdout",
     "output_type": "stream",
     "text": [
      "Epoch 1/20\n",
      "39/39 [==============================] - 93s 2s/step - loss: 0.6748 - accuracy: 0.6973 - val_loss: 0.3813 - val_accuracy: 0.8660\n",
      "Epoch 2/20\n",
      "39/39 [==============================] - 92s 2s/step - loss: 0.4230 - accuracy: 0.8113 - val_loss: 0.3030 - val_accuracy: 0.9013\n",
      "Epoch 3/20\n",
      "39/39 [==============================] - 96s 2s/step - loss: 0.3898 - accuracy: 0.8343 - val_loss: 0.2340 - val_accuracy: 0.9009\n",
      "Epoch 4/20\n",
      "39/39 [==============================] - 97s 2s/step - loss: 0.3412 - accuracy: 0.8634 - val_loss: 0.2624 - val_accuracy: 0.8816\n",
      "Epoch 5/20\n",
      "39/39 [==============================] - 92s 2s/step - loss: 0.2768 - accuracy: 0.8999 - val_loss: 0.2142 - val_accuracy: 0.9017\n",
      "Epoch 6/20\n",
      "39/39 [==============================] - 92s 2s/step - loss: 0.2331 - accuracy: 0.9196 - val_loss: 0.1595 - val_accuracy: 0.9375\n",
      "Epoch 7/20\n",
      "39/39 [==============================] - 92s 2s/step - loss: 0.2387 - accuracy: 0.9126 - val_loss: 0.1502 - val_accuracy: 0.9453\n",
      "Epoch 8/20\n",
      "39/39 [==============================] - 91s 2s/step - loss: 0.2293 - accuracy: 0.9253 - val_loss: 0.2331 - val_accuracy: 0.8865\n",
      "Epoch 9/20\n",
      "39/39 [==============================] - 96s 2s/step - loss: 0.1949 - accuracy: 0.9266 - val_loss: 0.1533 - val_accuracy: 0.9474\n",
      "Epoch 10/20\n",
      "39/39 [==============================] - 96s 2s/step - loss: 0.1672 - accuracy: 0.9331 - val_loss: 0.1531 - val_accuracy: 0.9527\n",
      "Epoch 11/20\n",
      "39/39 [==============================] - 91s 2s/step - loss: 0.1962 - accuracy: 0.9360 - val_loss: 0.2379 - val_accuracy: 0.9441\n",
      "Epoch 12/20\n",
      "39/39 [==============================] - 96s 2s/step - loss: 0.1359 - accuracy: 0.9434 - val_loss: 0.1310 - val_accuracy: 0.9391\n",
      "Epoch 13/20\n",
      "39/39 [==============================] - 92s 2s/step - loss: 0.1486 - accuracy: 0.9411 - val_loss: 0.2714 - val_accuracy: 0.9367\n",
      "Epoch 14/20\n",
      "39/39 [==============================] - 92s 2s/step - loss: 0.1518 - accuracy: 0.9422 - val_loss: 0.1083 - val_accuracy: 0.9539\n",
      "Epoch 15/20\n",
      "39/39 [==============================] - 96s 2s/step - loss: 0.1468 - accuracy: 0.9442 - val_loss: 0.0829 - val_accuracy: 0.9688\n",
      "Epoch 16/20\n",
      "39/39 [==============================] - 92s 2s/step - loss: 0.1341 - accuracy: 0.9524 - val_loss: 0.0741 - val_accuracy: 0.9704\n",
      "Epoch 17/20\n",
      "39/39 [==============================] - 96s 2s/step - loss: 0.1244 - accuracy: 0.9516 - val_loss: 0.0644 - val_accuracy: 0.9704\n",
      "Epoch 18/20\n",
      "39/39 [==============================] - 91s 2s/step - loss: 0.1165 - accuracy: 0.9491 - val_loss: 0.0671 - val_accuracy: 0.9720\n",
      "Epoch 19/20\n",
      "39/39 [==============================] - 97s 2s/step - loss: 0.1292 - accuracy: 0.9491 - val_loss: 0.1059 - val_accuracy: 0.9655\n",
      "Epoch 20/20\n",
      "39/39 [==============================] - 96s 2s/step - loss: 0.1195 - accuracy: 0.9512 - val_loss: 0.1865 - val_accuracy: 0.9396\n"
     ]
    }
   ],
   "source": [
    "epochs = 20\n",
    "steps_per_epoch = train_generator.n // train_generator.batch_size\n",
    "test_steps = test_generator.n // test_generator.batch_size\n",
    "\n",
    "logdir = os.path.join(\"tf_logs\", datetime.datetime.now().strftime(\"%Y%m%d-%H%M%S\"))\n",
    "tensorboard_callback = tf.keras.callbacks.TensorBoard(logdir, histogram_freq=1)\n",
    "\n",
    "history = model.fit(\n",
    "      train_generator,\n",
    "      steps_per_epoch=steps_per_epoch,\n",
    "      validation_data=test_generator,\n",
    "      validation_steps=test_steps,\n",
    "      epochs=epochs,\n",
    "      callbacks=[tensorboard_callback])"
   ]
  },
  {
   "cell_type": "code",
   "execution_count": 42,
   "id": "a4dd011a-35f2-4653-aa5b-ecb4ad87b002",
   "metadata": {},
   "outputs": [
    {
     "name": "stdout",
     "output_type": "stream",
     "text": [
      "Model: \"sequential\"\n",
      "_________________________________________________________________\n",
      " Layer (type)                Output Shape              Param #   \n",
      "=================================================================\n",
      " conv2d (Conv2D)             (None, 222, 222, 32)      896       \n",
      "                                                                 \n",
      " max_pooling2d (MaxPooling2D  (None, 111, 111, 32)     0         \n",
      " )                                                               \n",
      "                                                                 \n",
      " conv2d_1 (Conv2D)           (None, 109, 109, 32)      9248      \n",
      "                                                                 \n",
      " max_pooling2d_1 (MaxPooling  (None, 54, 54, 32)       0         \n",
      " 2D)                                                             \n",
      "                                                                 \n",
      " conv2d_2 (Conv2D)           (None, 52, 52, 64)        18496     \n",
      "                                                                 \n",
      " max_pooling2d_2 (MaxPooling  (None, 26, 26, 64)       0         \n",
      " 2D)                                                             \n",
      "                                                                 \n",
      " flatten (Flatten)           (None, 43264)             0         \n",
      "                                                                 \n",
      " dense (Dense)               (None, 64)                2768960   \n",
      "                                                                 \n",
      " dropout (Dropout)           (None, 64)                0         \n",
      "                                                                 \n",
      " dense_1 (Dense)             (None, 1)                 65        \n",
      "                                                                 \n",
      " activation (Activation)     (None, 1)                 0         \n",
      "                                                                 \n",
      "=================================================================\n",
      "Total params: 2,797,665\n",
      "Trainable params: 2,797,665\n",
      "Non-trainable params: 0\n",
      "_________________________________________________________________\n"
     ]
    }
   ],
   "source": [
    "model.summary()"
   ]
  },
  {
   "cell_type": "code",
   "execution_count": 43,
   "id": "13f29ad1-abb8-4b6b-8ea6-b052cfb1c12b",
   "metadata": {},
   "outputs": [
    {
     "data": {
      "text/plain": [
       "Text(0.5, 0, 'epoch')"
      ]
     },
     "execution_count": 43,
     "metadata": {},
     "output_type": "execute_result"
    },
    {
     "data": {
      "image/png": "[encoded data removed]",
      "text/plain": [
       "<Figure size 576x576 with 2 Axes>"
      ]
     },
     "metadata": {
      "needs_background": "light"
     },
     "output_type": "display_data"
    }
   ],
   "source": [
    "%matplotlib inline\n",
    "import matplotlib.pyplot as plt\n",
    "import matplotlib.image as mpimg\n",
    "\n",
    "acc = history.history['accuracy']\n",
    "val_acc = history.history['val_accuracy']\n",
    "\n",
    "loss = history.history['loss']\n",
    "val_loss = history.history['val_loss']\n",
    "\n",
    "plt.figure(figsize=(8, 8))\n",
    "plt.subplot(2, 1, 1)\n",
    "plt.plot(acc, label='Training Accuracy')\n",
    "plt.plot(val_acc, label='Testing Accuracy')\n",
    "plt.legend(loc='lower right')\n",
    "plt.ylabel('Accuracy')\n",
    "plt.ylim([min(plt.ylim()), 1])\n",
    "plt.title('Training and Testing Accuracy')\n",
    "\n",
    "plt.subplot(2, 1, 2)\n",
    "plt.plot(loss, label='Training Loss')\n",
    "plt.plot(val_loss, label='Testing Loss')\n",
    "plt.legend(loc='upper right')\n",
    "plt.ylabel('Binary Cross Entropy')\n",
    "plt.ylim([0, 1.0])\n",
    "plt.title('Training and Testing Loss')\n",
    "plt.xlabel('epoch')"
   ]
  },
  {
   "cell_type": "code",
   "execution_count": null,
   "id": "5c82cd8e-1dbb-4953-8afd-f95aea06ab1c",
   "metadata": {},
   "outputs": [],
   "source": []
  },
  {
   "cell_type": "code",
   "execution_count": null,
   "id": "51ad0206-c8ac-4028-b7a7-e5ff68419433",
   "metadata": {},
   "outputs": [],
   "source": []
  }
 ],
 "metadata": {
  "environment": {
   "kernel": "python3",
   "name": "tf2-gpu.2-7.m87",
   "type": "gcloud",
   "uri": "gcr.io/deeplearning-platform-release/tf2-gpu.2-7:m87"
  },
  "kernelspec": {
   "display_name": "Python 3",
   "language": "python",
   "name": "python3"
  },
  "language_info": {
   "codemirror_mode": {
    "name": "ipython",
    "version": 3
   },
   "file_extension": ".py",
   "mimetype": "text/x-python",
   "name": "python",
   "nbconvert_exporter": "python",
   "pygments_lexer": "ipython3",
   "version": "3.7.12"
  }
 },
 "nbformat": 4,
 "nbformat_minor": 5
}
