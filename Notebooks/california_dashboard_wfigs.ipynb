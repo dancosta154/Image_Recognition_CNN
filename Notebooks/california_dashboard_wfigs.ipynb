{
 "cells": [
  {
   "cell_type": "code",
   "execution_count": 1,
   "id": "fb8f61da-ed5f-45cf-bd12-6dcee25fad2a",
   "metadata": {},
   "outputs": [],
   "source": [
    "import pandas as pd\n",
    "import numpy as np\n",
    "import matplotlib.pyplot as plt\n",
    "import seaborn as sns"
   ]
  },
  {
   "cell_type": "markdown",
   "id": "3d5991f7-ad0b-4e32-9a4f-b193c4286eef",
   "metadata": {},
   "source": [
    "### Note to Future Dan\n",
    "I should just scrape these summary tables for the data to display in Dashboard... rather than spending\n",
    "all this time trying to find the best data, cleaning it, and then summarizing it -- these tables are what I want anyway.\n",
    "\n",
    "Then, just make pretty graphs to tell the stories from these tables -- boom, done!\n",
    "\n",
    "https://www.iii.org/fact-statistic/facts-statistics-wildfires#Wildfires%20by%20year"
   ]
  },
  {
   "cell_type": "code",
   "execution_count": null,
   "id": "0f619701-4ecb-4fea-aa03-937e42c8efc9",
   "metadata": {},
   "outputs": [],
   "source": []
  },
  {
   "cell_type": "code",
   "execution_count": 2,
   "id": "8f9f06a3-7aad-429c-8573-76209f508aa2",
   "metadata": {},
   "outputs": [
    {
     "data": {
      "text/html": [
       "<div>\n",
       "<style scoped>\n",
       "    .dataframe tbody tr th:only-of-type {\n",
       "        vertical-align: middle;\n",
       "    }\n",
       "\n",
       "    .dataframe tbody tr th {\n",
       "        vertical-align: top;\n",
       "    }\n",
       "\n",
       "    .dataframe thead th {\n",
       "        text-align: right;\n",
       "    }\n",
       "</style>\n",
       "<table border=\"1\" class=\"dataframe\">\n",
       "  <thead>\n",
       "    <tr style=\"text-align: right;\">\n",
       "      <th></th>\n",
       "      <th>X</th>\n",
       "      <th>Y</th>\n",
       "      <th>OBJECTID</th>\n",
       "      <th>ABCDMisc</th>\n",
       "      <th>ADSPermissionState</th>\n",
       "      <th>CalculatedAcres</th>\n",
       "      <th>ContainmentDateTime</th>\n",
       "      <th>ControlDateTime</th>\n",
       "      <th>DailyAcres</th>\n",
       "      <th>DiscoveryAcres</th>\n",
       "      <th>...</th>\n",
       "      <th>IsDispatchComplete</th>\n",
       "      <th>OrganizationalAssessment</th>\n",
       "      <th>StrategicDecisionPublishDate</th>\n",
       "      <th>CreatedOnDateTime_dt</th>\n",
       "      <th>ModifiedOnDateTime_dt</th>\n",
       "      <th>Source</th>\n",
       "      <th>GlobalID</th>\n",
       "      <th>IsCpxChild</th>\n",
       "      <th>CpxName</th>\n",
       "      <th>CpxID</th>\n",
       "    </tr>\n",
       "  </thead>\n",
       "  <tbody>\n",
       "    <tr>\n",
       "      <th>0</th>\n",
       "      <td>-104.457511</td>\n",
       "      <td>45.785037</td>\n",
       "      <td>1</td>\n",
       "      <td>NaN</td>\n",
       "      <td>CERTIFIED</td>\n",
       "      <td>50.64</td>\n",
       "      <td>2020/08/06 23:13:07+00</td>\n",
       "      <td>2020/08/06 23:13:24+00</td>\n",
       "      <td>50.6</td>\n",
       "      <td>20.0</td>\n",
       "      <td>...</td>\n",
       "      <td>0</td>\n",
       "      <td>NaN</td>\n",
       "      <td>NaN</td>\n",
       "      <td>2020/08/06 19:50:29+00</td>\n",
       "      <td>2020/08/12 20:46:01+00</td>\n",
       "      <td>IRWIN</td>\n",
       "      <td>{E5436898-ED0D-4CB1-90C0-D61915FE1F29}</td>\n",
       "      <td>NaN</td>\n",
       "      <td>NaN</td>\n",
       "      <td>NaN</td>\n",
       "    </tr>\n",
       "    <tr>\n",
       "      <th>1</th>\n",
       "      <td>-118.180712</td>\n",
       "      <td>33.808985</td>\n",
       "      <td>2</td>\n",
       "      <td>NaN</td>\n",
       "      <td>DEFAULT</td>\n",
       "      <td>NaN</td>\n",
       "      <td>NaN</td>\n",
       "      <td>NaN</td>\n",
       "      <td>NaN</td>\n",
       "      <td>0.1</td>\n",
       "      <td>...</td>\n",
       "      <td>0</td>\n",
       "      <td>NaN</td>\n",
       "      <td>NaN</td>\n",
       "      <td>2020/02/28 20:52:36+00</td>\n",
       "      <td>2020/02/28 20:52:36+00</td>\n",
       "      <td>IRWIN</td>\n",
       "      <td>{0E79B7FD-2882-43CF-8CFA-911BD1C8F77A}</td>\n",
       "      <td>NaN</td>\n",
       "      <td>NaN</td>\n",
       "      <td>NaN</td>\n",
       "    </tr>\n",
       "    <tr>\n",
       "      <th>2</th>\n",
       "      <td>-114.835414</td>\n",
       "      <td>48.073946</td>\n",
       "      <td>3</td>\n",
       "      <td>NaN</td>\n",
       "      <td>DEFAULT</td>\n",
       "      <td>NaN</td>\n",
       "      <td>2017/10/18 00:30:00+00</td>\n",
       "      <td>2017/10/18 00:35:00+00</td>\n",
       "      <td>50.0</td>\n",
       "      <td>50.0</td>\n",
       "      <td>...</td>\n",
       "      <td>0</td>\n",
       "      <td>NaN</td>\n",
       "      <td>NaN</td>\n",
       "      <td>2017/10/18 13:46:40+00</td>\n",
       "      <td>2017/11/09 22:08:19+00</td>\n",
       "      <td>IRWIN</td>\n",
       "      <td>{FAC59A92-E6AD-443B-8625-4AAABCF7F533}</td>\n",
       "      <td>NaN</td>\n",
       "      <td>NaN</td>\n",
       "      <td>NaN</td>\n",
       "    </tr>\n",
       "    <tr>\n",
       "      <th>3</th>\n",
       "      <td>-117.153901</td>\n",
       "      <td>33.176394</td>\n",
       "      <td>4</td>\n",
       "      <td>NaN</td>\n",
       "      <td>DEFAULT</td>\n",
       "      <td>NaN</td>\n",
       "      <td>NaN</td>\n",
       "      <td>NaN</td>\n",
       "      <td>NaN</td>\n",
       "      <td>NaN</td>\n",
       "      <td>...</td>\n",
       "      <td>0</td>\n",
       "      <td>NaN</td>\n",
       "      <td>NaN</td>\n",
       "      <td>2019/07/01 20:10:12+00</td>\n",
       "      <td>2019/07/01 20:10:12+00</td>\n",
       "      <td>IRWIN</td>\n",
       "      <td>{5DF06F41-9948-49D3-B00A-2D3A1D1049C5}</td>\n",
       "      <td>NaN</td>\n",
       "      <td>NaN</td>\n",
       "      <td>NaN</td>\n",
       "    </tr>\n",
       "    <tr>\n",
       "      <th>4</th>\n",
       "      <td>-121.104180</td>\n",
       "      <td>38.834727</td>\n",
       "      <td>5</td>\n",
       "      <td>NaN</td>\n",
       "      <td>DEFAULT</td>\n",
       "      <td>NaN</td>\n",
       "      <td>NaN</td>\n",
       "      <td>NaN</td>\n",
       "      <td>NaN</td>\n",
       "      <td>NaN</td>\n",
       "      <td>...</td>\n",
       "      <td>0</td>\n",
       "      <td>NaN</td>\n",
       "      <td>NaN</td>\n",
       "      <td>2016/06/20 22:39:02+00</td>\n",
       "      <td>2016/06/20 22:39:02+00</td>\n",
       "      <td>IRWIN</td>\n",
       "      <td>{F378818E-D541-4E0A-9A44-C81886C2B8B4}</td>\n",
       "      <td>NaN</td>\n",
       "      <td>NaN</td>\n",
       "      <td>NaN</td>\n",
       "    </tr>\n",
       "  </tbody>\n",
       "</table>\n",
       "<p>5 rows × 96 columns</p>\n",
       "</div>"
      ],
      "text/plain": [
       "            X          Y  OBJECTID ABCDMisc ADSPermissionState  \\\n",
       "0 -104.457511  45.785037         1      NaN          CERTIFIED   \n",
       "1 -118.180712  33.808985         2      NaN            DEFAULT   \n",
       "2 -114.835414  48.073946         3      NaN            DEFAULT   \n",
       "3 -117.153901  33.176394         4      NaN            DEFAULT   \n",
       "4 -121.104180  38.834727         5      NaN            DEFAULT   \n",
       "\n",
       "   CalculatedAcres     ContainmentDateTime         ControlDateTime  \\\n",
       "0            50.64  2020/08/06 23:13:07+00  2020/08/06 23:13:24+00   \n",
       "1              NaN                     NaN                     NaN   \n",
       "2              NaN  2017/10/18 00:30:00+00  2017/10/18 00:35:00+00   \n",
       "3              NaN                     NaN                     NaN   \n",
       "4              NaN                     NaN                     NaN   \n",
       "\n",
       "   DailyAcres  DiscoveryAcres  ... IsDispatchComplete  \\\n",
       "0        50.6            20.0  ...                  0   \n",
       "1         NaN             0.1  ...                  0   \n",
       "2        50.0            50.0  ...                  0   \n",
       "3         NaN             NaN  ...                  0   \n",
       "4         NaN             NaN  ...                  0   \n",
       "\n",
       "   OrganizationalAssessment  StrategicDecisionPublishDate  \\\n",
       "0                       NaN                           NaN   \n",
       "1                       NaN                           NaN   \n",
       "2                       NaN                           NaN   \n",
       "3                       NaN                           NaN   \n",
       "4                       NaN                           NaN   \n",
       "\n",
       "     CreatedOnDateTime_dt   ModifiedOnDateTime_dt Source  \\\n",
       "0  2020/08/06 19:50:29+00  2020/08/12 20:46:01+00  IRWIN   \n",
       "1  2020/02/28 20:52:36+00  2020/02/28 20:52:36+00  IRWIN   \n",
       "2  2017/10/18 13:46:40+00  2017/11/09 22:08:19+00  IRWIN   \n",
       "3  2019/07/01 20:10:12+00  2019/07/01 20:10:12+00  IRWIN   \n",
       "4  2016/06/20 22:39:02+00  2016/06/20 22:39:02+00  IRWIN   \n",
       "\n",
       "                                 GlobalID IsCpxChild CpxName CpxID  \n",
       "0  {E5436898-ED0D-4CB1-90C0-D61915FE1F29}        NaN     NaN   NaN  \n",
       "1  {0E79B7FD-2882-43CF-8CFA-911BD1C8F77A}        NaN     NaN   NaN  \n",
       "2  {FAC59A92-E6AD-443B-8625-4AAABCF7F533}        NaN     NaN   NaN  \n",
       "3  {5DF06F41-9948-49D3-B00A-2D3A1D1049C5}        NaN     NaN   NaN  \n",
       "4  {F378818E-D541-4E0A-9A44-C81886C2B8B4}        NaN     NaN   NaN  \n",
       "\n",
       "[5 rows x 96 columns]"
      ]
     },
     "execution_count": 2,
     "metadata": {},
     "output_type": "execute_result"
    }
   ],
   "source": [
    "# Source: https://data-nifc.opendata.arcgis.com/datasets/nifc::wfigs-wildland-fire-locations-full-history/about\n",
    "\n",
    "df = pd.read_csv('../Data/WFIGS_-_Wildland_Fire_Locations_Full_History.csv', low_memory=False)\n",
    "df.head()"
   ]
  },
  {
   "cell_type": "code",
   "execution_count": 3,
   "id": "fd923e7a-1763-4271-acc1-8561ee5252fe",
   "metadata": {},
   "outputs": [],
   "source": [
    "pd.set_option('max_columns', None)\n",
    "pd.set_option('max_rows', None)"
   ]
  },
  {
   "cell_type": "code",
   "execution_count": 4,
   "id": "0c94fc57-ffbe-498a-b957-73824f305ceb",
   "metadata": {},
   "outputs": [
    {
     "data": {
      "text/plain": [
       "(211460, 96)"
      ]
     },
     "execution_count": 4,
     "metadata": {},
     "output_type": "execute_result"
    }
   ],
   "source": [
    "df.shape"
   ]
  },
  {
   "cell_type": "code",
   "execution_count": 5,
   "id": "38d1cd3f-9e26-41d6-a0a0-c40de6b4cb2e",
   "metadata": {},
   "outputs": [
    {
     "data": {
      "text/plain": [
       "['FinalFireReportApprovedByTitle']"
      ]
     },
     "execution_count": 5,
     "metadata": {},
     "output_type": "execute_result"
    }
   ],
   "source": [
    "# All columns with 100% null values\n",
    "[col for col in df if df[col].isnull().sum() == df.shape[0]]"
   ]
  },
  {
   "cell_type": "markdown",
   "id": "ea376905-75bd-4954-9b68-a93976c6452e",
   "metadata": {},
   "source": [
    "### Investigating Columns"
   ]
  },
  {
   "cell_type": "code",
   "execution_count": 6,
   "id": "a6874303-ebb5-4329-b3f6-af038330bbc7",
   "metadata": {},
   "outputs": [
    {
     "data": {
      "text/plain": [
       "Index(['X', 'Y', 'OBJECTID', 'ABCDMisc', 'ADSPermissionState',\n",
       "       'CalculatedAcres', 'ContainmentDateTime', 'ControlDateTime',\n",
       "       'DailyAcres', 'DiscoveryAcres', 'DispatchCenterID',\n",
       "       'EstimatedCostToDate', 'FinalFireReportApprovedByTitle',\n",
       "       'FinalFireReportApprovedByUnit', 'FinalFireReportApprovedDate',\n",
       "       'FireBehaviorGeneral', 'FireBehaviorGeneral1', 'FireBehaviorGeneral2',\n",
       "       'FireBehaviorGeneral3', 'FireCause', 'FireCauseGeneral',\n",
       "       'FireCauseSpecific', 'FireCode', 'FireDepartmentID',\n",
       "       'FireDiscoveryDateTime', 'FireMgmtComplexity', 'FireOutDateTime',\n",
       "       'FireStrategyConfinePercent', 'FireStrategyFullSuppPercent',\n",
       "       'FireStrategyMonitorPercent', 'FireStrategyPointZonePercent',\n",
       "       'FSJobCode', 'FSOverrideCode', 'GACC', 'ICS209ReportDateTime',\n",
       "       'ICS209ReportForTimePeriodFrom', 'ICS209ReportForTimePeriodTo',\n",
       "       'ICS209ReportStatus', 'IncidentManagementOrganization', 'IncidentName',\n",
       "       'IncidentShortDescription', 'IncidentTypeCategory', 'IncidentTypeKind',\n",
       "       'InitialLatitude', 'InitialLongitude', 'InitialResponseAcres',\n",
       "       'InitialResponseDateTime', 'IrwinID', 'IsFireCauseInvestigated',\n",
       "       'IsFireCodeRequested', 'IsFSAssisted', 'IsMultiJurisdictional',\n",
       "       'IsReimbursable', 'IsTrespass', 'IsUnifiedCommand',\n",
       "       'LocalIncidentIdentifier', 'PercentContained',\n",
       "       'PercentPerimeterToBeContained', 'POOCity', 'POOCounty',\n",
       "       'POODispatchCenterID', 'POOFips', 'POOJurisdictionalAgency',\n",
       "       'POOJurisdictionalUnit', 'POOJurisdictionalUnitParentUnit',\n",
       "       'POOLandownerCategory', 'POOLandownerKind',\n",
       "       'POOLegalDescPrincipalMeridian', 'POOLegalDescQtr',\n",
       "       'POOLegalDescQtrQtr', 'POOLegalDescRange', 'POOLegalDescSection',\n",
       "       'POOLegalDescTownship', 'POOPredictiveServiceAreaID',\n",
       "       'POOProtectingAgency', 'POOProtectingUnit', 'POOState',\n",
       "       'PredominantFuelGroup', 'PredominantFuelModel', 'PrimaryFuelModel',\n",
       "       'SecondaryFuelModel', 'TotalIncidentPersonnel', 'UniqueFireIdentifier',\n",
       "       'WFDSSDecisionStatus', 'CreatedBySystem', 'ModifiedBySystem',\n",
       "       'IsDispatchComplete', 'OrganizationalAssessment',\n",
       "       'StrategicDecisionPublishDate', 'CreatedOnDateTime_dt',\n",
       "       'ModifiedOnDateTime_dt', 'Source', 'GlobalID', 'IsCpxChild', 'CpxName',\n",
       "       'CpxID'],\n",
       "      dtype='object')"
      ]
     },
     "execution_count": 6,
     "metadata": {},
     "output_type": "execute_result"
    }
   ],
   "source": [
    "df.columns # <-- very similar to IRWIN columns"
   ]
  },
  {
   "cell_type": "code",
   "execution_count": 7,
   "id": "481bcdbc-7668-4fe6-9f61-598d78510e03",
   "metadata": {
    "tags": []
   },
   "outputs": [
    {
     "name": "stdout",
     "output_type": "stream",
     "text": [
      "<class 'pandas.core.frame.DataFrame'>\n",
      "RangeIndex: 211460 entries, 0 to 211459\n",
      "Data columns (total 96 columns):\n",
      " #   Column                           Non-Null Count   Dtype  \n",
      "---  ------                           --------------   -----  \n",
      " 0   X                                211460 non-null  float64\n",
      " 1   Y                                211460 non-null  float64\n",
      " 2   OBJECTID                         211460 non-null  int64  \n",
      " 3   ABCDMisc                         10691 non-null   object \n",
      " 4   ADSPermissionState               211460 non-null  object \n",
      " 5   CalculatedAcres                  4835 non-null    float64\n",
      " 6   ContainmentDateTime              127245 non-null  object \n",
      " 7   ControlDateTime                  116372 non-null  object \n",
      " 8   DailyAcres                       144366 non-null  float64\n",
      " 9   DiscoveryAcres                   151585 non-null  float64\n",
      " 10  DispatchCenterID                 174080 non-null  object \n",
      " 11  EstimatedCostToDate              13186 non-null   float64\n",
      " 12  FinalFireReportApprovedByTitle   0 non-null       float64\n",
      " 13  FinalFireReportApprovedByUnit    2616 non-null    object \n",
      " 14  FinalFireReportApprovedDate      33169 non-null   object \n",
      " 15  FireBehaviorGeneral              12548 non-null   object \n",
      " 16  FireBehaviorGeneral1             6900 non-null    object \n",
      " 17  FireBehaviorGeneral2             5099 non-null    object \n",
      " 18  FireBehaviorGeneral3             3299 non-null    object \n",
      " 19  FireCause                        184951 non-null  object \n",
      " 20  FireCauseGeneral                 50776 non-null   object \n",
      " 21  FireCauseSpecific                13875 non-null   object \n",
      " 22  FireCode                         113708 non-null  object \n",
      " 23  FireDepartmentID                 8648 non-null    object \n",
      " 24  FireDiscoveryDateTime            211460 non-null  object \n",
      " 25  FireMgmtComplexity               18108 non-null   object \n",
      " 26  FireOutDateTime                  127278 non-null  object \n",
      " 27  FireStrategyConfinePercent       5812 non-null    float64\n",
      " 28  FireStrategyFullSuppPercent      8006 non-null    float64\n",
      " 29  FireStrategyMonitorPercent       5920 non-null    float64\n",
      " 30  FireStrategyPointZonePercent     5545 non-null    float64\n",
      " 31  FSJobCode                        57064 non-null   object \n",
      " 32  FSOverrideCode                   56516 non-null   object \n",
      " 33  GACC                             211400 non-null  object \n",
      " 34  ICS209ReportDateTime             11574 non-null   object \n",
      " 35  ICS209ReportForTimePeriodFrom    11198 non-null   object \n",
      " 36  ICS209ReportForTimePeriodTo      11179 non-null   object \n",
      " 37  ICS209ReportStatus               12290 non-null   object \n",
      " 38  IncidentManagementOrganization   10720 non-null   object \n",
      " 39  IncidentName                     211452 non-null  object \n",
      " 40  IncidentShortDescription         8020 non-null    object \n",
      " 41  IncidentTypeCategory             211460 non-null  object \n",
      " 42  IncidentTypeKind                 211460 non-null  object \n",
      " 43  InitialLatitude                  151984 non-null  float64\n",
      " 44  InitialLongitude                 151984 non-null  float64\n",
      " 45  InitialResponseAcres             75421 non-null   float64\n",
      " 46  InitialResponseDateTime          29593 non-null   object \n",
      " 47  IrwinID                          211460 non-null  object \n",
      " 48  IsFireCauseInvestigated          10711 non-null   float64\n",
      " 49  IsFireCodeRequested              211460 non-null  int64  \n",
      " 50  IsFSAssisted                     163511 non-null  float64\n",
      " 51  IsMultiJurisdictional            156739 non-null  float64\n",
      " 52  IsReimbursable                   160010 non-null  float64\n",
      " 53  IsTrespass                       159494 non-null  float64\n",
      " 54  IsUnifiedCommand                 7032 non-null    float64\n",
      " 55  LocalIncidentIdentifier          211460 non-null  object \n",
      " 56  PercentContained                 18033 non-null   float64\n",
      " 57  PercentPerimeterToBeContained    7527 non-null    float64\n",
      " 58  POOCity                          4862 non-null    object \n",
      " 59  POOCounty                        211299 non-null  object \n",
      " 60  POODispatchCenterID              133224 non-null  object \n",
      " 61  POOFips                          211292 non-null  object \n",
      " 62  POOJurisdictionalAgency          89359 non-null   object \n",
      " 63  POOJurisdictionalUnit            145014 non-null  object \n",
      " 64  POOJurisdictionalUnitParentUnit  3 non-null       object \n",
      " 65  POOLandownerCategory             143674 non-null  object \n",
      " 66  POOLandownerKind                 144487 non-null  object \n",
      " 67  POOLegalDescPrincipalMeridian    2147 non-null    object \n",
      " 68  POOLegalDescQtr                  1003 non-null    object \n",
      " 69  POOLegalDescQtrQtr               930 non-null     object \n",
      " 70  POOLegalDescRange                2102 non-null    object \n",
      " 71  POOLegalDescSection              2104 non-null    float64\n",
      " 72  POOLegalDescTownship             2102 non-null    object \n",
      " 73  POOPredictiveServiceAreaID       181566 non-null  object \n",
      " 74  POOProtectingAgency              162636 non-null  object \n",
      " 75  POOProtectingUnit                211460 non-null  object \n",
      " 76  POOState                         211460 non-null  object \n",
      " 77  PredominantFuelGroup             34173 non-null   object \n",
      " 78  PredominantFuelModel             33451 non-null   object \n",
      " 79  PrimaryFuelModel                 13069 non-null   object \n",
      " 80  SecondaryFuelModel               5580 non-null    object \n",
      " 81  TotalIncidentPersonnel           9969 non-null    float64\n",
      " 82  UniqueFireIdentifier             211460 non-null  object \n",
      " 83  WFDSSDecisionStatus              132137 non-null  object \n",
      " 84  CreatedBySystem                  211460 non-null  object \n",
      " 85  ModifiedBySystem                 211460 non-null  object \n",
      " 86  IsDispatchComplete               211460 non-null  int64  \n",
      " 87  OrganizationalAssessment         1510 non-null    object \n",
      " 88  StrategicDecisionPublishDate     1417 non-null    object \n",
      " 89  CreatedOnDateTime_dt             211460 non-null  object \n",
      " 90  ModifiedOnDateTime_dt            211460 non-null  object \n",
      " 91  Source                           211460 non-null  object \n",
      " 92  GlobalID                         211460 non-null  object \n",
      " 93  IsCpxChild                       9862 non-null    float64\n",
      " 94  CpxName                          477 non-null     object \n",
      " 95  CpxID                            477 non-null     object \n",
      "dtypes: float64(25), int64(3), object(68)\n",
      "memory usage: 154.9+ MB\n"
     ]
    }
   ],
   "source": [
    "df.info(verbose=True)"
   ]
  },
  {
   "cell_type": "code",
   "execution_count": 8,
   "id": "ba5210fd-9905-422f-baa1-241f5af33815",
   "metadata": {
    "tags": []
   },
   "outputs": [
    {
     "data": {
      "text/plain": [
       "Index(['ADSPermissionState', 'CalculatedAcres', 'ContainmentDateTime',\n",
       "       'ControlDateTime', 'EstimatedCostToDate', 'FinalFireReportApprovedDate',\n",
       "       'FireDiscoveryDateTime', 'FireOutDateTime',\n",
       "       'FireStrategyConfinePercent', 'FireStrategyFullSuppPercent',\n",
       "       'FireStrategyMonitorPercent', 'FireStrategyPointZonePercent',\n",
       "       'ICS209ReportDateTime', 'IncidentTypeCategory',\n",
       "       'InitialResponseDateTime', 'IsFireCauseInvestigated',\n",
       "       'POOLandownerCategory', 'POOState', 'CreatedBySystem',\n",
       "       'StrategicDecisionPublishDate', 'CreatedOnDateTime_dt',\n",
       "       'ModifiedOnDateTime_dt'],\n",
       "      dtype='object')"
      ]
     },
     "execution_count": 8,
     "metadata": {},
     "output_type": "execute_result"
    }
   ],
   "source": [
    "df.filter(regex='[A-Za-z]ate').columns"
   ]
  },
  {
   "cell_type": "code",
   "execution_count": 9,
   "id": "b259f0e0-7cd0-4d7a-9426-527acd614bca",
   "metadata": {},
   "outputs": [],
   "source": [
    "df['FireDiscoveryDateTime'] = df['FireDiscoveryDateTime'].astype('datetime64')"
   ]
  },
  {
   "cell_type": "code",
   "execution_count": 10,
   "id": "f0d9885c-7048-4866-bfa1-d463d1d0d8ad",
   "metadata": {},
   "outputs": [
    {
     "data": {
      "text/plain": [
       "dtype('<M8[ns]')"
      ]
     },
     "execution_count": 10,
     "metadata": {},
     "output_type": "execute_result"
    }
   ],
   "source": [
    "df['FireDiscoveryDateTime'].dtype"
   ]
  },
  {
   "cell_type": "code",
   "execution_count": 11,
   "id": "e1d0ffbf-1fc4-42db-bfe5-c0faa872822d",
   "metadata": {},
   "outputs": [
    {
     "data": {
      "text/plain": [
       "0   2020-08-01\n",
       "1   2020-02-01\n",
       "2   2017-10-01\n",
       "3   2019-07-01\n",
       "4   2016-06-01\n",
       "Name: FireDiscoveryDate, dtype: datetime64[ns]"
      ]
     },
     "execution_count": 11,
     "metadata": {},
     "output_type": "execute_result"
    }
   ],
   "source": [
    "df['FireDiscoveryDate'] = df['FireDiscoveryDateTime'].dt.to_period('M').apply(lambda d: pd.to_datetime(str(d)))\n",
    "df['FireDiscoveryDate'].head()"
   ]
  },
  {
   "cell_type": "code",
   "execution_count": 12,
   "id": "4f01649e-64e2-4dd8-b0f8-6e37de3b5d7f",
   "metadata": {
    "tags": []
   },
   "outputs": [
    {
     "data": {
      "text/plain": [
       "0      August\n",
       "1    February\n",
       "2     October\n",
       "3        July\n",
       "4        June\n",
       "Name: FireDiscoveryMonth, dtype: object"
      ]
     },
     "execution_count": 12,
     "metadata": {},
     "output_type": "execute_result"
    }
   ],
   "source": [
    "df['FireDiscoveryMonth'] = df['FireDiscoveryDate'].dt.month_name()\n",
    "df['FireDiscoveryMonth'].head()"
   ]
  },
  {
   "cell_type": "code",
   "execution_count": 36,
   "id": "779f0c8d-ee45-4b4e-9358-1a7dc1193f6b",
   "metadata": {},
   "outputs": [
    {
     "data": {
      "image/png": "[encoded data removed]",
      "text/plain": [
       "<Figure size 432x288 with 1 Axes>"
      ]
     },
     "metadata": {
      "needs_background": "light"
     },
     "output_type": "display_data"
    }
   ],
   "source": [
    "df['FireDiscoveryYear'] = df['FireDiscoveryDate'].dt.year\n",
    "df['FireDiscoveryYear'].hist();"
   ]
  },
  {
   "cell_type": "code",
   "execution_count": 14,
   "id": "c73a6c89-07cf-4043-a3f0-975ae368f934",
   "metadata": {},
   "outputs": [
    {
     "data": {
      "text/plain": [
       "2021    39532\n",
       "2020    35681\n",
       "2019    29239\n",
       "2017    25686\n",
       "2018    23962\n",
       "2016    20252\n",
       "2015    19796\n",
       "2014    12674\n",
       "2022     4568\n",
       "2011       20\n",
       "2009       18\n",
       "2013       16\n",
       "2010        7\n",
       "2012        4\n",
       "2008        3\n",
       "2003        1\n",
       "2004        1\n",
       "Name: FireDiscoveryYear, dtype: int64"
      ]
     },
     "execution_count": 14,
     "metadata": {},
     "output_type": "execute_result"
    }
   ],
   "source": [
    "df['FireDiscoveryYear'].value_counts().sort_values(ascending=False)"
   ]
  },
  {
   "cell_type": "code",
   "execution_count": 15,
   "id": "37824931-09c2-4636-b768-81dab0df381e",
   "metadata": {},
   "outputs": [
    {
     "data": {
      "text/plain": [
       "Index(['CalculatedAcres', 'DailyAcres', 'DiscoveryAcres',\n",
       "       'InitialResponseAcres'],\n",
       "      dtype='object')"
      ]
     },
     "execution_count": 15,
     "metadata": {},
     "output_type": "execute_result"
    }
   ],
   "source": [
    "df.filter(regex='[A-Za-z]cres').columns"
   ]
  },
  {
   "cell_type": "code",
   "execution_count": 16,
   "id": "ed0e547f-e221-420c-b519-50b848467edf",
   "metadata": {},
   "outputs": [
    {
     "data": {
      "text/plain": [
       "4835"
      ]
     },
     "execution_count": 16,
     "metadata": {},
     "output_type": "execute_result"
    }
   ],
   "source": [
    "df['CalculatedAcres'].notnull().sum()"
   ]
  },
  {
   "cell_type": "code",
   "execution_count": 17,
   "id": "6e26b15b-c39c-4877-856d-4f23e84414ef",
   "metadata": {},
   "outputs": [
    {
     "data": {
      "text/plain": [
       "151585"
      ]
     },
     "execution_count": 17,
     "metadata": {},
     "output_type": "execute_result"
    }
   ],
   "source": [
    "df['DiscoveryAcres'].notnull().sum()"
   ]
  },
  {
   "cell_type": "code",
   "execution_count": 18,
   "id": "2d44ecc3-d1e0-415e-b372-af7d463344ed",
   "metadata": {},
   "outputs": [
    {
     "data": {
      "text/plain": [
       "144366"
      ]
     },
     "execution_count": 18,
     "metadata": {},
     "output_type": "execute_result"
    }
   ],
   "source": [
    "df['DailyAcres'].notnull().sum()"
   ]
  },
  {
   "cell_type": "code",
   "execution_count": 22,
   "id": "5f6ac52c-4740-4293-9160-4baf9f7bbdf6",
   "metadata": {},
   "outputs": [],
   "source": [
    "df['DailyAcres'] = df['DailyAcres'].round(decimals=2)"
   ]
  },
  {
   "cell_type": "code",
   "execution_count": 35,
   "id": "828d2257-fb4f-4c62-af59-607960f946a0",
   "metadata": {},
   "outputs": [
    {
     "data": {
      "text/plain": [
       "13186"
      ]
     },
     "execution_count": 35,
     "metadata": {},
     "output_type": "execute_result"
    }
   ],
   "source": [
    "df['EstimatedCostToDate'].notnull().sum() "
   ]
  },
  {
   "cell_type": "code",
   "execution_count": null,
   "id": "8834784d-eb1d-4986-96c7-3a975b29ea51",
   "metadata": {},
   "outputs": [],
   "source": []
  },
  {
   "cell_type": "code",
   "execution_count": null,
   "id": "5c843d7e-7840-4389-814a-b0af8f1735b5",
   "metadata": {},
   "outputs": [],
   "source": []
  },
  {
   "cell_type": "code",
   "execution_count": null,
   "id": "e9a02f89-f288-4446-8c2c-20a7c135cd62",
   "metadata": {},
   "outputs": [],
   "source": []
  },
  {
   "cell_type": "code",
   "execution_count": null,
   "id": "1e02e0d4-4bd8-42d0-adf6-9f446a3d94bc",
   "metadata": {},
   "outputs": [],
   "source": []
  },
  {
   "cell_type": "code",
   "execution_count": 26,
   "id": "4d1fc86d-d45e-413e-9aaf-26ee36379e63",
   "metadata": {},
   "outputs": [
    {
     "data": {
      "text/plain": [
       "['X',\n",
       " 'Y',\n",
       " 'OBJECTID',\n",
       " 'ABCDMisc',\n",
       " 'ADSPermissionState',\n",
       " 'CalculatedAcres',\n",
       " 'ContainmentDateTime',\n",
       " 'ControlDateTime',\n",
       " 'DailyAcres',\n",
       " 'DiscoveryAcres',\n",
       " 'DispatchCenterID',\n",
       " 'EstimatedCostToDate',\n",
       " 'FinalFireReportApprovedByTitle',\n",
       " 'FinalFireReportApprovedByUnit',\n",
       " 'FinalFireReportApprovedDate',\n",
       " 'FireBehaviorGeneral',\n",
       " 'FireBehaviorGeneral1',\n",
       " 'FireBehaviorGeneral2',\n",
       " 'FireBehaviorGeneral3',\n",
       " 'FireCause',\n",
       " 'FireCauseGeneral',\n",
       " 'FireCauseSpecific',\n",
       " 'FireCode',\n",
       " 'FireDepartmentID',\n",
       " 'FireDiscoveryDateTime',\n",
       " 'FireMgmtComplexity',\n",
       " 'FireOutDateTime',\n",
       " 'FireStrategyConfinePercent',\n",
       " 'FireStrategyFullSuppPercent',\n",
       " 'FireStrategyMonitorPercent',\n",
       " 'FireStrategyPointZonePercent',\n",
       " 'FSJobCode',\n",
       " 'FSOverrideCode',\n",
       " 'GACC',\n",
       " 'ICS209ReportDateTime',\n",
       " 'ICS209ReportForTimePeriodFrom',\n",
       " 'ICS209ReportForTimePeriodTo',\n",
       " 'ICS209ReportStatus',\n",
       " 'IncidentManagementOrganization',\n",
       " 'IncidentName',\n",
       " 'IncidentShortDescription',\n",
       " 'IncidentTypeCategory',\n",
       " 'IncidentTypeKind',\n",
       " 'InitialLatitude',\n",
       " 'InitialLongitude',\n",
       " 'InitialResponseAcres',\n",
       " 'InitialResponseDateTime',\n",
       " 'IrwinID',\n",
       " 'IsFireCauseInvestigated',\n",
       " 'IsFireCodeRequested',\n",
       " 'IsFSAssisted',\n",
       " 'IsMultiJurisdictional',\n",
       " 'IsReimbursable',\n",
       " 'IsTrespass',\n",
       " 'IsUnifiedCommand',\n",
       " 'LocalIncidentIdentifier',\n",
       " 'PercentContained',\n",
       " 'PercentPerimeterToBeContained',\n",
       " 'POOCity',\n",
       " 'POOCounty',\n",
       " 'POODispatchCenterID',\n",
       " 'POOFips',\n",
       " 'POOJurisdictionalAgency',\n",
       " 'POOJurisdictionalUnit',\n",
       " 'POOJurisdictionalUnitParentUnit',\n",
       " 'POOLandownerCategory',\n",
       " 'POOLandownerKind',\n",
       " 'POOLegalDescPrincipalMeridian',\n",
       " 'POOLegalDescQtr',\n",
       " 'POOLegalDescQtrQtr',\n",
       " 'POOLegalDescRange',\n",
       " 'POOLegalDescSection',\n",
       " 'POOLegalDescTownship',\n",
       " 'POOPredictiveServiceAreaID',\n",
       " 'POOProtectingAgency',\n",
       " 'POOProtectingUnit',\n",
       " 'POOState',\n",
       " 'PredominantFuelGroup',\n",
       " 'PredominantFuelModel',\n",
       " 'PrimaryFuelModel',\n",
       " 'SecondaryFuelModel',\n",
       " 'TotalIncidentPersonnel',\n",
       " 'UniqueFireIdentifier',\n",
       " 'WFDSSDecisionStatus',\n",
       " 'CreatedBySystem',\n",
       " 'ModifiedBySystem',\n",
       " 'IsDispatchComplete',\n",
       " 'OrganizationalAssessment',\n",
       " 'StrategicDecisionPublishDate',\n",
       " 'CreatedOnDateTime_dt',\n",
       " 'ModifiedOnDateTime_dt',\n",
       " 'Source',\n",
       " 'GlobalID',\n",
       " 'IsCpxChild',\n",
       " 'CpxName',\n",
       " 'CpxID',\n",
       " 'FireDiscoveryDate',\n",
       " 'FireDiscoveryMonth',\n",
       " 'FireDiscoveryYear']"
      ]
     },
     "execution_count": 26,
     "metadata": {},
     "output_type": "execute_result"
    }
   ],
   "source": [
    "[col for col in df if df[col].isnull().sum() >= 0]"
   ]
  },
  {
   "cell_type": "code",
   "execution_count": null,
   "id": "9cf3d843-d142-4d07-8fe6-173b4a954d5a",
   "metadata": {},
   "outputs": [],
   "source": []
  },
  {
   "cell_type": "code",
   "execution_count": null,
   "id": "acf772c9-f6a6-4e13-a0d4-cd055c6c052f",
   "metadata": {},
   "outputs": [],
   "source": []
  },
  {
   "cell_type": "code",
   "execution_count": null,
   "id": "069c4c6e-da36-4c12-b549-6da6848e955f",
   "metadata": {},
   "outputs": [],
   "source": []
  },
  {
   "cell_type": "markdown",
   "id": "05a5cea5-824d-496a-8b28-d5773f1311ff",
   "metadata": {},
   "source": [
    "### Cleaning Up Column Types for Important Columns"
   ]
  },
  {
   "cell_type": "code",
   "execution_count": null,
   "id": "b80ea9df-f448-416a-9931-a5cd10803ca9",
   "metadata": {},
   "outputs": [],
   "source": [
    "df['Calculated Acres'].replace(',', '', regex=True, inplace=True)"
   ]
  },
  {
   "cell_type": "code",
   "execution_count": null,
   "id": "e43c8ac4-85a9-4d16-a88f-2ef0f97dafe8",
   "metadata": {
    "tags": []
   },
   "outputs": [],
   "source": [
    "df['Calculated Acres'] = df['Calculated Acres'].astype(float)"
   ]
  },
  {
   "cell_type": "code",
   "execution_count": null,
   "id": "dc246220-a3ae-4a6d-9144-2c3667c19802",
   "metadata": {},
   "outputs": [],
   "source": [
    "df['Calculated Acres'].isnull().sum()"
   ]
  },
  {
   "cell_type": "code",
   "execution_count": null,
   "id": "79807e07-070b-4021-9e18-5a60c4ad2d16",
   "metadata": {},
   "outputs": [],
   "source": [
    "df['Daily Acres'].isnull().sum(), df['Discovery Acres'].isnull().sum()"
   ]
  },
  {
   "cell_type": "code",
   "execution_count": null,
   "id": "9425f3f5-ed6e-477d-aadd-983c6472bb03",
   "metadata": {},
   "outputs": [],
   "source": [
    "df['Discovery Acres'].replace(',', '', regex=True, inplace=True)"
   ]
  },
  {
   "cell_type": "code",
   "execution_count": null,
   "id": "1664ffa3-149b-46db-a737-f9231487d6ac",
   "metadata": {
    "tags": []
   },
   "outputs": [],
   "source": [
    "df['Daily Acres'].replace(',','', regex=True, inplace=True)"
   ]
  },
  {
   "cell_type": "code",
   "execution_count": null,
   "id": "da0b360b-a6bd-42cc-8252-1eaf1372ece5",
   "metadata": {},
   "outputs": [],
   "source": [
    "df['Daily Acres'].isnull().sum(), df['Discovery Acres'].isnull().sum()"
   ]
  },
  {
   "cell_type": "code",
   "execution_count": null,
   "id": "6c8ea7a8-acd6-40fd-b437-836f86d18143",
   "metadata": {
    "tags": []
   },
   "outputs": [],
   "source": [
    "df['Discovery Acres'] = df['Discovery Acres'].astype(float)"
   ]
  },
  {
   "cell_type": "code",
   "execution_count": null,
   "id": "68b034a9-7757-4522-a2cc-34ddd05723d8",
   "metadata": {
    "tags": []
   },
   "outputs": [],
   "source": [
    "df['Daily Acres'] = df['Daily Acres'].astype(float)"
   ]
  },
  {
   "cell_type": "code",
   "execution_count": null,
   "id": "5c0137d6-021a-486b-bf75-a55627a0c236",
   "metadata": {
    "tags": []
   },
   "outputs": [],
   "source": [
    "df.info(verbose=True)"
   ]
  },
  {
   "cell_type": "code",
   "execution_count": null,
   "id": "a37b3e5b-a58f-410c-849b-7cc7f09ec36d",
   "metadata": {
    "tags": []
   },
   "outputs": [],
   "source": [
    "df['total_acres'] = df['Discovery Acres'] + df['Daily Acres']"
   ]
  },
  {
   "cell_type": "code",
   "execution_count": null,
   "id": "8b9a36fb-427e-4ee2-ac4a-ff225f6af251",
   "metadata": {},
   "outputs": [],
   "source": [
    "df['total_acres'].isnull().sum()"
   ]
  },
  {
   "cell_type": "code",
   "execution_count": null,
   "id": "c5ab99eb-20e3-4cc5-a2e7-274f89a5b279",
   "metadata": {
    "tags": []
   },
   "outputs": [],
   "source": [
    "df['total_acres'].value_counts()"
   ]
  },
  {
   "cell_type": "code",
   "execution_count": null,
   "id": "e8966ecb-1b7d-468c-b8e7-33a03653047a",
   "metadata": {},
   "outputs": [],
   "source": [
    "df.filter(regex='[A-Z]ate').columns"
   ]
  },
  {
   "cell_type": "code",
   "execution_count": null,
   "id": "7692210b-3c16-4751-9272-6f3414c17b39",
   "metadata": {
    "tags": []
   },
   "outputs": [],
   "source": [
    "df['Created On Date Time'] = df['Created On Date Time'].astype('datetime64')"
   ]
  },
  {
   "cell_type": "code",
   "execution_count": null,
   "id": "a70c58aa-8d5e-459d-b1c1-924bc6f647c5",
   "metadata": {
    "tags": []
   },
   "outputs": [],
   "source": [
    "df['Created On Date Time']"
   ]
  },
  {
   "cell_type": "code",
   "execution_count": null,
   "id": "5a138d7a-0472-4622-80a4-1f074e4a03f9",
   "metadata": {
    "tags": []
   },
   "outputs": [],
   "source": [
    "df['Created On Date'] = df['Created On Date Time'].dt.to_period('M').apply(lambda d: pd.to_datetime(str(d)))\n",
    "df['Created On Date']"
   ]
  },
  {
   "cell_type": "code",
   "execution_count": null,
   "id": "3d3818da-75a7-4635-afd3-4ca5d1ffa1f6",
   "metadata": {
    "tags": []
   },
   "outputs": [],
   "source": [
    "df['month_name'] = df['Created On Date'].dt.month_name()\n",
    "df['month_name']"
   ]
  },
  {
   "cell_type": "code",
   "execution_count": null,
   "id": "97e2a449-b4f1-4cf5-9619-38f5b7d9bf45",
   "metadata": {
    "tags": []
   },
   "outputs": [],
   "source": [
    "df['year'] = df['Created On Date'].dt.year\n",
    "df['year']"
   ]
  },
  {
   "cell_type": "code",
   "execution_count": null,
   "id": "c2a26e34-b867-4451-90c3-90ac506d5ef8",
   "metadata": {},
   "outputs": [],
   "source": [
    "df['year'].value_counts()"
   ]
  },
  {
   "cell_type": "code",
   "execution_count": null,
   "id": "525279b0-8bc5-4422-8513-954b8329715c",
   "metadata": {},
   "outputs": [],
   "source": []
  },
  {
   "cell_type": "code",
   "execution_count": null,
   "id": "0ffe0bd8-ab44-424e-9e25-2e04d74dbbe0",
   "metadata": {},
   "outputs": [],
   "source": []
  },
  {
   "cell_type": "code",
   "execution_count": null,
   "id": "3ea95a06-35fe-4219-b2b4-fd992e3a1571",
   "metadata": {},
   "outputs": [],
   "source": []
  },
  {
   "cell_type": "code",
   "execution_count": null,
   "id": "04e8bd82-ae0b-439a-8eb4-e120386ec27d",
   "metadata": {
    "tags": []
   },
   "outputs": [],
   "source": [
    "'----' * 42"
   ]
  },
  {
   "cell_type": "code",
   "execution_count": null,
   "id": "be9a8681-702b-4f56-a999-59c7316cf615",
   "metadata": {},
   "outputs": [],
   "source": [
    "df['Final Fire Report Approved By Title'].value_counts()"
   ]
  },
  {
   "cell_type": "code",
   "execution_count": null,
   "id": "be998fe2-ba73-404c-aecb-87d60589b491",
   "metadata": {
    "tags": []
   },
   "outputs": [],
   "source": [
    "df.isnull().sum()"
   ]
  },
  {
   "cell_type": "code",
   "execution_count": null,
   "id": "9b77f950-e3ae-4416-95e6-c13a5aa99de7",
   "metadata": {
    "tags": []
   },
   "outputs": [],
   "source": [
    "df.info(verbose=True)"
   ]
  },
  {
   "cell_type": "code",
   "execution_count": null,
   "id": "4fe4eb1b-ddf2-489e-b2b2-a59cf598321b",
   "metadata": {},
   "outputs": [],
   "source": [
    "df.filter(regex='Acres|acres|Acre|acre').columns"
   ]
  },
  {
   "cell_type": "code",
   "execution_count": null,
   "id": "859b6b7f-9882-4f27-88b1-b425a0c3d20b",
   "metadata": {},
   "outputs": [],
   "source": [
    "df['Calculated Acres'].isnull().sum()"
   ]
  },
  {
   "cell_type": "code",
   "execution_count": null,
   "id": "6e28f0ff-9a93-4177-b018-2cab753287d4",
   "metadata": {},
   "outputs": [],
   "source": [
    "df_acres = df[['Calculated Acres', 'Daily Acres', 'Discovery Acres', 'Final Acres',\n",
    "       'Initial Response Acres']]\n",
    "\n",
    "df_acres.isnull().sum()"
   ]
  },
  {
   "cell_type": "code",
   "execution_count": null,
   "id": "2503ed0c-e752-4fe7-a137-da51ea34cf62",
   "metadata": {},
   "outputs": [],
   "source": [
    "df.filter(regex='State|state').columns"
   ]
  },
  {
   "cell_type": "code",
   "execution_count": null,
   "id": "fd2d44fa-e071-4e5b-9e76-13941f22d4d9",
   "metadata": {},
   "outputs": [],
   "source": [
    "df['POO State'].value_counts()"
   ]
  },
  {
   "cell_type": "code",
   "execution_count": null,
   "id": "b165acea-03bb-4447-998f-d310b984a85b",
   "metadata": {},
   "outputs": [],
   "source": []
  }
 ],
 "metadata": {
  "kernelspec": {
   "display_name": "Python 3 (ipykernel)",
   "language": "python",
   "name": "python3"
  },
  "language_info": {
   "codemirror_mode": {
    "name": "ipython",
    "version": 3
   },
   "file_extension": ".py",
   "mimetype": "text/x-python",
   "name": "python",
   "nbconvert_exporter": "python",
   "pygments_lexer": "ipython3",
   "version": "3.9.7"
  }
 },
 "nbformat": 4,
 "nbformat_minor": 5
}
