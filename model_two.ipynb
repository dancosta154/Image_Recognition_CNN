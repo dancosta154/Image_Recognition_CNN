{
 "cells": [
  {
   "cell_type": "markdown",
   "id": "8f3ed47c-d204-46b3-a42b-47e538e50806",
   "metadata": {},
   "source": [
    "### Model Info: loss: 0.2088 - accuracy: 0.9192 - val_loss: 0.1316 - val_accuracy: 0.9568\n",
    "Data: Grid\n",
    "\n",
    "ImageDataGenerator( \\\n",
    "    rescale=1. / 255, \\\n",
    "    shear_range=0.2, \\\n",
    "    zoom_range=0.2, \\\n",
    "    horizontal_flip=True)\n",
    "   \n",
    "batch_size = 64 \\\n",
    "image_width = 224 \\\n",
    "image_height = 224 \n",
    "    \n",
    "optimizer='rmsprop"
   ]
  },
  {
   "cell_type": "code",
   "execution_count": 1,
   "id": "fb68603c-7732-416b-b618-7a6b8198b344",
   "metadata": {},
   "outputs": [],
   "source": [
    "import pandas as pd\n",
    "import numpy as np\n",
    "import matplotlib.pyplot as plt\n",
    "\n",
    "import datetime, os\n",
    "import tensorflow as tf\n",
    "\n",
    "from keras.preprocessing.image import ImageDataGenerator\n",
    "from tensorflow.keras.models import Sequential\n",
    "from tensorflow.keras.layers import Activation, Dense, Dropout, Flatten, Conv2D, MaxPooling2D"
   ]
  },
  {
   "cell_type": "code",
   "execution_count": 2,
   "id": "50ce9ea6-af1f-4029-911e-bc8ce97ddedc",
   "metadata": {},
   "outputs": [],
   "source": [
    "# image dataset from directory"
   ]
  },
  {
   "cell_type": "code",
   "execution_count": 6,
   "id": "834c72b2-2e31-46b8-83c1-27dda63af50b",
   "metadata": {},
   "outputs": [],
   "source": [
    "train_path = 'grid_wildfire_smoke/train'\n",
    "test_path = 'grid_wildfire_smoke/test'"
   ]
  },
  {
   "cell_type": "code",
   "execution_count": 7,
   "id": "bb808244-d472-4ef4-b331-f9934acc0a59",
   "metadata": {},
   "outputs": [],
   "source": [
    "#apply image augmentation\n",
    "train_image_generator = ImageDataGenerator(\n",
    "    rescale=1. / 255,\n",
    "    shear_range=0.2,\n",
    "    zoom_range=0.2,\n",
    "    horizontal_flip=True)\n",
    "\"\"\"ImageDataGenerator(\n",
    "    rescale=1./255)\"\"\"\n",
    "    \n",
    "test_image_generator = ImageDataGenerator(rescale=1./255)"
   ]
  },
  {
   "cell_type": "code",
   "execution_count": 10,
   "id": "1c4cdda2-03c2-4e16-9c39-1b2ecef59f34",
   "metadata": {},
   "outputs": [
    {
     "name": "stdout",
     "output_type": "stream",
     "text": [
      "Found 2502 images belonging to 2 classes.\n",
      "Found 2468 images belonging to 2 classes.\n"
     ]
    }
   ],
   "source": [
    "# Variables for model\n",
    "batch_size = 64\n",
    "image_width = 224 \n",
    "image_height = 224 \n",
    "classes = ['no_smoke','smoke']\n",
    "color_mode=\"rgb\"\n",
    "IMAGE_WIDTH_HEIGHT = (image_width, image_height)\n",
    "\n",
    "class_mode = 'binary'\n",
    "\n",
    "#create train data generator flowing from train_input_folder\n",
    "train_generator = train_image_generator.flow_from_directory(\n",
    "            train_path,\n",
    "            target_size=IMAGE_WIDTH_HEIGHT,\n",
    "            batch_size=batch_size,\n",
    "            classes=classes,\n",
    "            color_mode=color_mode,\n",
    "            class_mode=class_mode)\n",
    "            \n",
    "#create validation data generator flowing from test_input_folder\n",
    "test_generator = test_image_generator.flow_from_directory(\n",
    "        test_path,\n",
    "        target_size=IMAGE_WIDTH_HEIGHT,\n",
    "        batch_size=batch_size,\n",
    "        classes=classes,\n",
    "        color_mode=color_mode,\n",
    "        class_mode=class_mode)"
   ]
  },
  {
   "cell_type": "code",
   "execution_count": 11,
   "id": "bb542807-81e0-4d3a-98f9-942511331dfa",
   "metadata": {},
   "outputs": [],
   "source": [
    "# img_input = layers.Input(shape=(image_width, image_height, 3))\n",
    "input_shape = (image_width, image_height, 3)"
   ]
  },
  {
   "cell_type": "code",
   "execution_count": 12,
   "id": "79bf1199-def5-4131-8e9f-68a15a6f9814",
   "metadata": {},
   "outputs": [
    {
     "name": "stderr",
     "output_type": "stream",
     "text": [
      "2022-04-06 00:53:03.725608: I tensorflow/core/common_runtime/process_util.cc:146] Creating new thread pool with default inter op setting: 2. Tune using inter_op_parallelism_threads for best performance.\n"
     ]
    }
   ],
   "source": [
    "model = Sequential()\n",
    "model.add(Conv2D(32, \n",
    "                 kernel_size=(3, 3),\n",
    "                 activation='relu',\n",
    "                 input_shape=input_shape))\n",
    "model.add(MaxPooling2D(pool_size=(2, 2)))\n",
    "\n",
    "model.add(Conv2D(32, kernel_size=(3, 3), activation='relu'))\n",
    "model.add(MaxPooling2D(pool_size=(2, 2)))\n",
    "\n",
    "model.add(Conv2D(64, kernel_size=(3, 3), activation='relu'))\n",
    "model.add(MaxPooling2D(pool_size=(2, 2)))\n",
    "\n",
    "model.add(Flatten())\n",
    "model.add(Dense(64, activation='relu'))\n",
    "model.add(Dropout(0.5))\n",
    "# output layer - binary // sigmoid\n",
    "model.add(Dense(1))\n",
    "model.add(Activation('sigmoid'))\n",
    "\n",
    "model.compile(loss='binary_crossentropy',\n",
    "              optimizer='rmsprop',\n",
    "              metrics=['accuracy'])\n"
   ]
  },
  {
   "cell_type": "code",
   "execution_count": 13,
   "id": "94b8dec9-2842-41d6-bc20-37774327c2f3",
   "metadata": {},
   "outputs": [
    {
     "name": "stdout",
     "output_type": "stream",
     "text": [
      "Epoch 1/10\n",
      "39/39 [==============================] - 95s 2s/step - loss: 0.9277 - accuracy: 0.6612 - val_loss: 0.4438 - val_accuracy: 0.8458\n",
      "Epoch 2/10\n",
      "39/39 [==============================] - 92s 2s/step - loss: 0.4668 - accuracy: 0.7777 - val_loss: 0.4704 - val_accuracy: 0.7677\n",
      "Epoch 3/10\n",
      "39/39 [==============================] - 92s 2s/step - loss: 0.4449 - accuracy: 0.8290 - val_loss: 0.2766 - val_accuracy: 0.8865\n",
      "Epoch 4/10\n",
      "39/39 [==============================] - 92s 2s/step - loss: 0.3606 - accuracy: 0.8372 - val_loss: 0.2837 - val_accuracy: 0.8873\n",
      "Epoch 5/10\n",
      "39/39 [==============================] - 92s 2s/step - loss: 0.3312 - accuracy: 0.8655 - val_loss: 0.2257 - val_accuracy: 0.9071\n",
      "Epoch 6/10\n",
      "39/39 [==============================] - 92s 2s/step - loss: 0.2805 - accuracy: 0.8819 - val_loss: 0.3674 - val_accuracy: 0.8462\n",
      "Epoch 7/10\n",
      "39/39 [==============================] - 91s 2s/step - loss: 0.2582 - accuracy: 0.8999 - val_loss: 0.2971 - val_accuracy: 0.8997\n",
      "Epoch 8/10\n",
      "39/39 [==============================] - 91s 2s/step - loss: 0.2359 - accuracy: 0.9102 - val_loss: 0.2029 - val_accuracy: 0.9260\n",
      "Epoch 9/10\n",
      "39/39 [==============================] - 91s 2s/step - loss: 0.2207 - accuracy: 0.9192 - val_loss: 0.2481 - val_accuracy: 0.8783\n",
      "Epoch 10/10\n",
      "39/39 [==============================] - 90s 2s/step - loss: 0.2088 - accuracy: 0.9192 - val_loss: 0.1316 - val_accuracy: 0.9568\n"
     ]
    }
   ],
   "source": [
    "epochs = 10\n",
    "steps_per_epoch = train_generator.n // train_generator.batch_size\n",
    "test_steps = test_generator.n // test_generator.batch_size\n",
    "\n",
    "logdir = os.path.join(\"tf_logs\", datetime.datetime.now().strftime(\"%Y%m%d-%H%M%S\"))\n",
    "tensorboard_callback = tf.keras.callbacks.TensorBoard(logdir, histogram_freq=1)\n",
    "\n",
    "history = model.fit(\n",
    "      train_generator,\n",
    "      steps_per_epoch=steps_per_epoch,\n",
    "      validation_data=test_generator,\n",
    "      validation_steps=test_steps,\n",
    "      epochs=epochs,\n",
    "      callbacks=[tensorboard_callback])"
   ]
  },
  {
   "cell_type": "code",
   "execution_count": 17,
   "id": "a4dd011a-35f2-4653-aa5b-ecb4ad87b002",
   "metadata": {},
   "outputs": [
    {
     "name": "stdout",
     "output_type": "stream",
     "text": [
      "Model: \"sequential\"\n",
      "_________________________________________________________________\n",
      " Layer (type)                Output Shape              Param #   \n",
      "=================================================================\n",
      " conv2d (Conv2D)             (None, 222, 222, 32)      896       \n",
      "                                                                 \n",
      " activation (Activation)     (None, 222, 222, 32)      0         \n",
      "                                                                 \n",
      " max_pooling2d (MaxPooling2D  (None, 111, 111, 32)     0         \n",
      " )                                                               \n",
      "                                                                 \n",
      " conv2d_1 (Conv2D)           (None, 109, 109, 32)      9248      \n",
      "                                                                 \n",
      " activation_1 (Activation)   (None, 109, 109, 32)      0         \n",
      "                                                                 \n",
      " max_pooling2d_1 (MaxPooling  (None, 54, 54, 32)       0         \n",
      " 2D)                                                             \n",
      "                                                                 \n",
      " conv2d_2 (Conv2D)           (None, 52, 52, 64)        18496     \n",
      "                                                                 \n",
      " activation_2 (Activation)   (None, 52, 52, 64)        0         \n",
      "                                                                 \n",
      " max_pooling2d_2 (MaxPooling  (None, 26, 26, 64)       0         \n",
      " 2D)                                                             \n",
      "                                                                 \n",
      " flatten (Flatten)           (None, 43264)             0         \n",
      "                                                                 \n",
      " dense (Dense)               (None, 64)                2768960   \n",
      "                                                                 \n",
      " activation_3 (Activation)   (None, 64)                0         \n",
      "                                                                 \n",
      " dropout (Dropout)           (None, 64)                0         \n",
      "                                                                 \n",
      " dense_1 (Dense)             (None, 1)                 65        \n",
      "                                                                 \n",
      " activation_4 (Activation)   (None, 1)                 0         \n",
      "                                                                 \n",
      "=================================================================\n",
      "Total params: 2,797,665\n",
      "Trainable params: 2,797,665\n",
      "Non-trainable params: 0\n",
      "_________________________________________________________________\n"
     ]
    }
   ],
   "source": [
    "model.summary()"
   ]
  },
  {
   "cell_type": "code",
   "execution_count": 14,
   "id": "13f29ad1-abb8-4b6b-8ea6-b052cfb1c12b",
   "metadata": {},
   "outputs": [
    {
     "data": {
      "text/plain": [
       "Text(0.5, 0, 'epoch')"
      ]
     },
     "execution_count": 14,
     "metadata": {},
     "output_type": "execute_result"
    },
    {
     "data": {
      "image/png": "[encoded data removed]",
      "text/plain": [
       "<Figure size 576x576 with 2 Axes>"
      ]
     },
     "metadata": {
      "needs_background": "light"
     },
     "output_type": "display_data"
    }
   ],
   "source": [
    "%matplotlib inline\n",
    "import matplotlib.pyplot as plt\n",
    "import matplotlib.image as mpimg\n",
    "\n",
    "acc = history.history['accuracy']\n",
    "val_acc = history.history['val_accuracy']\n",
    "\n",
    "loss = history.history['loss']\n",
    "val_loss = history.history['val_loss']\n",
    "\n",
    "plt.figure(figsize=(8, 8))\n",
    "plt.subplot(2, 1, 1)\n",
    "plt.plot(acc, label='Training Accuracy')\n",
    "plt.plot(val_acc, label='Testing Accuracy')\n",
    "plt.legend(loc='lower right')\n",
    "plt.ylabel('Accuracy')\n",
    "plt.ylim([min(plt.ylim()), 1])\n",
    "plt.title('Training and Testing Accuracy')\n",
    "\n",
    "plt.subplot(2, 1, 2)\n",
    "plt.plot(loss, label='Training Loss')\n",
    "plt.plot(val_loss, label='Testing Loss')\n",
    "plt.legend(loc='upper right')\n",
    "plt.ylabel('Binary Cross Entropy')\n",
    "plt.ylim([0, 1.0])\n",
    "plt.title('Training and Testing Loss')\n",
    "plt.xlabel('epoch')"
   ]
  },
  {
   "cell_type": "code",
   "execution_count": null,
   "id": "5c82cd8e-1dbb-4953-8afd-f95aea06ab1c",
   "metadata": {},
   "outputs": [],
   "source": []
  }
 ],
 "metadata": {
  "environment": {
   "kernel": "python3",
   "name": "tf2-gpu.2-7.m87",
   "type": "gcloud",
   "uri": "gcr.io/deeplearning-platform-release/tf2-gpu.2-7:m87"
  },
  "kernelspec": {
   "display_name": "Python 3",
   "language": "python",
   "name": "python3"
  },
  "language_info": {
   "codemirror_mode": {
    "name": "ipython",
    "version": 3
   },
   "file_extension": ".py",
   "mimetype": "text/x-python",
   "name": "python",
   "nbconvert_exporter": "python",
   "pygments_lexer": "ipython3",
   "version": "3.7.12"
  }
 },
 "nbformat": 4,
 "nbformat_minor": 5
}
