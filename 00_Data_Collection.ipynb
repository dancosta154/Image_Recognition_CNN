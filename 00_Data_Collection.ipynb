{
 "cells": [
  {
   "cell_type": "markdown",
   "id": "9282e467-e38d-4777-bc2c-acec70d84601",
   "metadata": {},
   "source": [
    "#### This notebook is designated for scraping tables to be used in EDA"
   ]
  },
  {
   "cell_type": "code",
   "execution_count": 1,
   "id": "98301c1d-f89f-4f8b-a79f-fb300f9429ce",
   "metadata": {},
   "outputs": [],
   "source": [
    "import pandas as pd\n",
    "import requests\n",
    "from bs4 import BeautifulSoup"
   ]
  },
  {
   "cell_type": "code",
   "execution_count": 2,
   "id": "e29220f1-0a4d-4018-934f-717bdeb4efac",
   "metadata": {},
   "outputs": [
    {
     "data": {
      "text/plain": [
       "200"
      ]
     },
     "execution_count": 2,
     "metadata": {},
     "output_type": "execute_result"
    }
   ],
   "source": [
    "url = 'https://www.iii.org/fact-statistic/facts-statistics-wildfires#Wildfires%20by%20year'\n",
    "res = requests.get(url)\n",
    "res.status_code"
   ]
  },
  {
   "cell_type": "code",
   "execution_count": 3,
   "id": "dfe42049-36ec-4a6e-8450-2a2381edeef1",
   "metadata": {
    "tags": []
   },
   "outputs": [
    {
     "data": {
      "text/plain": [
       "'Rank\\nState\\nEstimated number of\\nproperties at risk\\nRank\\nState\\nPercent of\\nproperties at risk\\n1\\nCalifornia\\n2,040,600\\n1\\nMontana\\n29%\\n2\\nTexas\\n717,800\\n2\\nIdaho\\n26\\n3\\nColorado\\n373,900\\n3\\nColorado\\n17\\n4\\nArizona\\n242,200\\n4\\nCalifornia\\n15\\n5\\nIdaho\\n175,000\\n5\\nNew Mexico\\n15\\n6\\nWashington\\n155,500\\n6\\nUtah\\n14\\n7\\nOklahoma\\n153,400\\n7\\nWyoming\\n14\\n8\\nOregon\\n147,500\\n8\\nArizona\\n9\\n9\\nMontana\\n137,800\\n9\\nOklahoma\\n9\\n10\\nUtah\\n136,000\\n10\\nOregon\\n9\\n11\\nNew Mexico\\n131,600\\n11\\nTexas\\n7\\n12\\nNevada\\n67,100\\n12\\nNevada\\n6\\n13\\nWyoming\\n36,800\\n13\\nWashington\\n5\\n'"
      ]
     },
     "execution_count": 3,
     "metadata": {},
     "output_type": "execute_result"
    }
   ],
   "source": [
    "soup = BeautifulSoup(res.text, 'lxml')\n",
    "\n",
    "table = soup.find('table', {'class': 'tablesorter'})\n",
    "table.text\n",
    "\n",
    "table.attrs\n",
    "\n",
    "table_all = soup.find_all('table')\n",
    "[i.text for i in table_all][1]"
   ]
  },
  {
   "cell_type": "markdown",
   "id": "8a072cfc-a42f-4510-867e-afba6a1a0293",
   "metadata": {
    "tags": []
   },
   "source": [
    "### Wildfire Risk by Number of Properties at Risk (2021)"
   ]
  },
  {
   "cell_type": "code",
   "execution_count": 4,
   "id": "20d4347b-963e-4920-9b0a-fa7b72753625",
   "metadata": {
    "tags": []
   },
   "outputs": [
    {
     "data": {
      "text/html": [
       "<div>\n",
       "<style scoped>\n",
       "    .dataframe tbody tr th:only-of-type {\n",
       "        vertical-align: middle;\n",
       "    }\n",
       "\n",
       "    .dataframe tbody tr th {\n",
       "        vertical-align: top;\n",
       "    }\n",
       "\n",
       "    .dataframe thead th {\n",
       "        text-align: right;\n",
       "    }\n",
       "</style>\n",
       "<table border=\"1\" class=\"dataframe\">\n",
       "  <thead>\n",
       "    <tr style=\"text-align: right;\">\n",
       "      <th></th>\n",
       "      <th>rank</th>\n",
       "      <th>state</th>\n",
       "      <th>est_num_of_props_at_risk</th>\n",
       "    </tr>\n",
       "  </thead>\n",
       "  <tbody>\n",
       "    <tr>\n",
       "      <th>0</th>\n",
       "      <td>1</td>\n",
       "      <td>California</td>\n",
       "      <td>2,040,600</td>\n",
       "    </tr>\n",
       "    <tr>\n",
       "      <th>1</th>\n",
       "      <td>2</td>\n",
       "      <td>Texas</td>\n",
       "      <td>717,800</td>\n",
       "    </tr>\n",
       "    <tr>\n",
       "      <th>2</th>\n",
       "      <td>3</td>\n",
       "      <td>Colorado</td>\n",
       "      <td>373,900</td>\n",
       "    </tr>\n",
       "    <tr>\n",
       "      <th>3</th>\n",
       "      <td>4</td>\n",
       "      <td>Arizona</td>\n",
       "      <td>242,200</td>\n",
       "    </tr>\n",
       "    <tr>\n",
       "      <th>4</th>\n",
       "      <td>5</td>\n",
       "      <td>Idaho</td>\n",
       "      <td>175,000</td>\n",
       "    </tr>\n",
       "    <tr>\n",
       "      <th>5</th>\n",
       "      <td>6</td>\n",
       "      <td>Washington</td>\n",
       "      <td>155,500</td>\n",
       "    </tr>\n",
       "    <tr>\n",
       "      <th>6</th>\n",
       "      <td>7</td>\n",
       "      <td>Oklahoma</td>\n",
       "      <td>153,400</td>\n",
       "    </tr>\n",
       "    <tr>\n",
       "      <th>7</th>\n",
       "      <td>8</td>\n",
       "      <td>Oregon</td>\n",
       "      <td>147,500</td>\n",
       "    </tr>\n",
       "    <tr>\n",
       "      <th>8</th>\n",
       "      <td>9</td>\n",
       "      <td>Montana</td>\n",
       "      <td>137,800</td>\n",
       "    </tr>\n",
       "    <tr>\n",
       "      <th>9</th>\n",
       "      <td>10</td>\n",
       "      <td>Utah</td>\n",
       "      <td>136,000</td>\n",
       "    </tr>\n",
       "    <tr>\n",
       "      <th>10</th>\n",
       "      <td>11</td>\n",
       "      <td>New Mexico</td>\n",
       "      <td>131,600</td>\n",
       "    </tr>\n",
       "    <tr>\n",
       "      <th>11</th>\n",
       "      <td>12</td>\n",
       "      <td>Nevada</td>\n",
       "      <td>67,100</td>\n",
       "    </tr>\n",
       "    <tr>\n",
       "      <th>12</th>\n",
       "      <td>13</td>\n",
       "      <td>Wyoming</td>\n",
       "      <td>36,800</td>\n",
       "    </tr>\n",
       "  </tbody>\n",
       "</table>\n",
       "</div>"
      ],
      "text/plain": [
       "   rank       state est_num_of_props_at_risk\n",
       "0     1  California                2,040,600\n",
       "1     2       Texas                  717,800\n",
       "2     3    Colorado                  373,900\n",
       "3     4     Arizona                  242,200\n",
       "4     5       Idaho                  175,000\n",
       "5     6  Washington                  155,500\n",
       "6     7    Oklahoma                  153,400\n",
       "7     8      Oregon                  147,500\n",
       "8     9     Montana                  137,800\n",
       "9    10        Utah                  136,000\n",
       "10   11  New Mexico                  131,600\n",
       "11   12      Nevada                   67,100\n",
       "12   13     Wyoming                   36,800"
      ]
     },
     "execution_count": 4,
     "metadata": {},
     "output_type": "execute_result"
    }
   ],
   "source": [
    "states = []\n",
    "for row in table.find_all('tr')[1:]:\n",
    "    state = {}\n",
    "    state['rank'] = row.find_all('td')[0].text.strip()\n",
    "    state['state'] = row.find_all('td')[1].text.strip()\n",
    "    state['est_num_of_props_at_risk'] = row.find_all('td')[2].text.strip()\n",
    "    states.append(state)\n",
    "high_wildfire_risk_df = pd.DataFrame(states)\n",
    "high_wildfire_risk_df"
   ]
  },
  {
   "cell_type": "code",
   "execution_count": 5,
   "id": "da4ee070-db5a-40f6-bb31-50ac51dfb691",
   "metadata": {},
   "outputs": [],
   "source": [
    "def remove_punctuation(column, punc):\n",
    "    return column.replace(punc, '', regex=True, inplace=True)\n",
    "\n",
    "remove_punctuation(high_wildfire_risk_df['est_num_of_props_at_risk'], ',')"
   ]
  },
  {
   "cell_type": "code",
   "execution_count": 6,
   "id": "cc7f9396-a1b9-4f02-9ec7-b43b2ec41c04",
   "metadata": {},
   "outputs": [],
   "source": [
    "# Set columns to integer\n",
    "high_wildfire_risk_df['est_num_of_props_at_risk'] = high_wildfire_risk_df['est_num_of_props_at_risk'].astype(int)\n",
    "high_wildfire_risk_df['rank'] = high_wildfire_risk_df['rank'].astype(int)"
   ]
  },
  {
   "cell_type": "code",
   "execution_count": 7,
   "id": "7a1d3d1d-0e90-4ded-b07e-7794487488dd",
   "metadata": {},
   "outputs": [
    {
     "data": {
      "text/html": [
       "<div>\n",
       "<style scoped>\n",
       "    .dataframe tbody tr th:only-of-type {\n",
       "        vertical-align: middle;\n",
       "    }\n",
       "\n",
       "    .dataframe tbody tr th {\n",
       "        vertical-align: top;\n",
       "    }\n",
       "\n",
       "    .dataframe thead th {\n",
       "        text-align: right;\n",
       "    }\n",
       "</style>\n",
       "<table border=\"1\" class=\"dataframe\">\n",
       "  <thead>\n",
       "    <tr style=\"text-align: right;\">\n",
       "      <th></th>\n",
       "      <th>rank</th>\n",
       "      <th>state</th>\n",
       "      <th>est_num_of_props_at_risk</th>\n",
       "    </tr>\n",
       "  </thead>\n",
       "  <tbody>\n",
       "    <tr>\n",
       "      <th>0</th>\n",
       "      <td>1</td>\n",
       "      <td>California</td>\n",
       "      <td>2040600</td>\n",
       "    </tr>\n",
       "    <tr>\n",
       "      <th>1</th>\n",
       "      <td>2</td>\n",
       "      <td>Texas</td>\n",
       "      <td>717800</td>\n",
       "    </tr>\n",
       "    <tr>\n",
       "      <th>2</th>\n",
       "      <td>3</td>\n",
       "      <td>Colorado</td>\n",
       "      <td>373900</td>\n",
       "    </tr>\n",
       "    <tr>\n",
       "      <th>3</th>\n",
       "      <td>4</td>\n",
       "      <td>Arizona</td>\n",
       "      <td>242200</td>\n",
       "    </tr>\n",
       "    <tr>\n",
       "      <th>4</th>\n",
       "      <td>5</td>\n",
       "      <td>Idaho</td>\n",
       "      <td>175000</td>\n",
       "    </tr>\n",
       "  </tbody>\n",
       "</table>\n",
       "</div>"
      ],
      "text/plain": [
       "   rank       state  est_num_of_props_at_risk\n",
       "0     1  California                   2040600\n",
       "1     2       Texas                    717800\n",
       "2     3    Colorado                    373900\n",
       "3     4     Arizona                    242200\n",
       "4     5       Idaho                    175000"
      ]
     },
     "execution_count": 7,
     "metadata": {},
     "output_type": "execute_result"
    }
   ],
   "source": [
    "# Sort df\n",
    "high_wildfire_risk_df.sort_values('est_num_of_props_at_risk', ascending=False, inplace=True)\n",
    "high_wildfire_risk_df.head()"
   ]
  },
  {
   "cell_type": "code",
   "execution_count": 9,
   "id": "06e96508-7f17-48b2-b3a2-ab6c37b28901",
   "metadata": {},
   "outputs": [],
   "source": [
    "high_wildfire_risk_df.to_csv('./Data/wildfire_risk_by_number_of_properties_2021.csv', index=False)"
   ]
  },
  {
   "cell_type": "markdown",
   "id": "d0c64a8c-ea4b-40e9-96df-e00a6924864f",
   "metadata": {},
   "source": [
    "### Wildfire Risk by Percent (2021)"
   ]
  },
  {
   "cell_type": "code",
   "execution_count": 10,
   "id": "cca57eb3-f8a2-466c-9fce-af1cb3f803c0",
   "metadata": {},
   "outputs": [
    {
     "data": {
      "text/html": [
       "<div>\n",
       "<style scoped>\n",
       "    .dataframe tbody tr th:only-of-type {\n",
       "        vertical-align: middle;\n",
       "    }\n",
       "\n",
       "    .dataframe tbody tr th {\n",
       "        vertical-align: top;\n",
       "    }\n",
       "\n",
       "    .dataframe thead th {\n",
       "        text-align: right;\n",
       "    }\n",
       "</style>\n",
       "<table border=\"1\" class=\"dataframe\">\n",
       "  <thead>\n",
       "    <tr style=\"text-align: right;\">\n",
       "      <th></th>\n",
       "      <th>rank</th>\n",
       "      <th>state</th>\n",
       "      <th>perc_props_at_risk</th>\n",
       "    </tr>\n",
       "  </thead>\n",
       "  <tbody>\n",
       "    <tr>\n",
       "      <th>0</th>\n",
       "      <td>1</td>\n",
       "      <td>Montana</td>\n",
       "      <td>29%</td>\n",
       "    </tr>\n",
       "    <tr>\n",
       "      <th>1</th>\n",
       "      <td>2</td>\n",
       "      <td>Idaho</td>\n",
       "      <td>26</td>\n",
       "    </tr>\n",
       "    <tr>\n",
       "      <th>2</th>\n",
       "      <td>3</td>\n",
       "      <td>Colorado</td>\n",
       "      <td>17</td>\n",
       "    </tr>\n",
       "    <tr>\n",
       "      <th>3</th>\n",
       "      <td>4</td>\n",
       "      <td>California</td>\n",
       "      <td>15</td>\n",
       "    </tr>\n",
       "    <tr>\n",
       "      <th>4</th>\n",
       "      <td>5</td>\n",
       "      <td>New Mexico</td>\n",
       "      <td>15</td>\n",
       "    </tr>\n",
       "  </tbody>\n",
       "</table>\n",
       "</div>"
      ],
      "text/plain": [
       "  rank       state perc_props_at_risk\n",
       "0    1     Montana                29%\n",
       "1    2       Idaho                 26\n",
       "2    3    Colorado                 17\n",
       "3    4  California                 15\n",
       "4    5  New Mexico                 15"
      ]
     },
     "execution_count": 10,
     "metadata": {},
     "output_type": "execute_result"
    }
   ],
   "source": [
    "states = []\n",
    "for row in table.find_all('tr')[1:]:\n",
    "    state = {}\n",
    "    state['rank'] = row.find_all('td')[3].text.strip()\n",
    "    state['state'] = row.find_all('td')[4].text.strip()\n",
    "    state['perc_props_at_risk'] = row.find_all('td')[5].text.strip()\n",
    "    states.append(state)\n",
    "high_wildfire_risk_perc_df = pd.DataFrame(states)\n",
    "high_wildfire_risk_perc_df.head()"
   ]
  },
  {
   "cell_type": "code",
   "execution_count": 11,
   "id": "96f751f6-eed4-4166-ac4a-83beedf85362",
   "metadata": {},
   "outputs": [],
   "source": [
    "remove_punctuation(high_wildfire_risk_perc_df['perc_props_at_risk'], '%')"
   ]
  },
  {
   "cell_type": "code",
   "execution_count": 12,
   "id": "449636c3-e70a-4872-8bb9-264399bcdfb7",
   "metadata": {},
   "outputs": [],
   "source": [
    "# Set columns to integer\n",
    "high_wildfire_risk_perc_df['perc_props_at_risk'] = high_wildfire_risk_perc_df['perc_props_at_risk'].astype(float)\n",
    "high_wildfire_risk_perc_df['rank'] = high_wildfire_risk_perc_df['rank'].astype(int)"
   ]
  },
  {
   "cell_type": "code",
   "execution_count": 13,
   "id": "26bb438e-f2d3-4a44-b2a9-c2318d5edde7",
   "metadata": {},
   "outputs": [
    {
     "data": {
      "text/html": [
       "<div>\n",
       "<style scoped>\n",
       "    .dataframe tbody tr th:only-of-type {\n",
       "        vertical-align: middle;\n",
       "    }\n",
       "\n",
       "    .dataframe tbody tr th {\n",
       "        vertical-align: top;\n",
       "    }\n",
       "\n",
       "    .dataframe thead th {\n",
       "        text-align: right;\n",
       "    }\n",
       "</style>\n",
       "<table border=\"1\" class=\"dataframe\">\n",
       "  <thead>\n",
       "    <tr style=\"text-align: right;\">\n",
       "      <th></th>\n",
       "      <th>rank</th>\n",
       "      <th>state</th>\n",
       "      <th>perc_props_at_risk</th>\n",
       "    </tr>\n",
       "  </thead>\n",
       "  <tbody>\n",
       "    <tr>\n",
       "      <th>0</th>\n",
       "      <td>1</td>\n",
       "      <td>Montana</td>\n",
       "      <td>29.0</td>\n",
       "    </tr>\n",
       "    <tr>\n",
       "      <th>1</th>\n",
       "      <td>2</td>\n",
       "      <td>Idaho</td>\n",
       "      <td>26.0</td>\n",
       "    </tr>\n",
       "    <tr>\n",
       "      <th>2</th>\n",
       "      <td>3</td>\n",
       "      <td>Colorado</td>\n",
       "      <td>17.0</td>\n",
       "    </tr>\n",
       "    <tr>\n",
       "      <th>3</th>\n",
       "      <td>4</td>\n",
       "      <td>California</td>\n",
       "      <td>15.0</td>\n",
       "    </tr>\n",
       "    <tr>\n",
       "      <th>4</th>\n",
       "      <td>5</td>\n",
       "      <td>New Mexico</td>\n",
       "      <td>15.0</td>\n",
       "    </tr>\n",
       "  </tbody>\n",
       "</table>\n",
       "</div>"
      ],
      "text/plain": [
       "   rank       state  perc_props_at_risk\n",
       "0     1     Montana                29.0\n",
       "1     2       Idaho                26.0\n",
       "2     3    Colorado                17.0\n",
       "3     4  California                15.0\n",
       "4     5  New Mexico                15.0"
      ]
     },
     "execution_count": 13,
     "metadata": {},
     "output_type": "execute_result"
    }
   ],
   "source": [
    "# Sort df\n",
    "high_wildfire_risk_perc_df.sort_values('perc_props_at_risk', ascending=False)\n",
    "high_wildfire_risk_perc_df.head()"
   ]
  },
  {
   "cell_type": "code",
   "execution_count": 14,
   "id": "209d1234-24d6-49fb-985c-04f0a706b3e5",
   "metadata": {},
   "outputs": [],
   "source": [
    "high_wildfire_risk_perc_df.to_csv('./Data/wildfire_risk_by_percent_2021.csv', index=False)"
   ]
  },
  {
   "cell_type": "markdown",
   "id": "1d968c8d-dae4-4c4f-8b20-c3f68351a7f5",
   "metadata": {},
   "source": [
    "### Wildfires by State (2021)"
   ]
  },
  {
   "cell_type": "code",
   "execution_count": 15,
   "id": "f2628247-b841-4ee5-a917-95ca679bedc8",
   "metadata": {},
   "outputs": [
    {
     "data": {
      "text/plain": [
       "'State\\nNumber of fires\\nNumber of acres burned\\xa0\\nAlab'"
      ]
     },
     "execution_count": 15,
     "metadata": {},
     "output_type": "execute_result"
    }
   ],
   "source": [
    "second_soup = BeautifulSoup(res.text, 'lxml')\n",
    "\n",
    "second_table = second_soup.find_all('table', {'class': 'tablesorter'})[1]\n",
    "second_table.text[:50]"
   ]
  },
  {
   "cell_type": "code",
   "execution_count": 16,
   "id": "fca5417a-3593-43a6-b00d-c28bbed080e0",
   "metadata": {},
   "outputs": [
    {
     "data": {
      "text/html": [
       "<div>\n",
       "<style scoped>\n",
       "    .dataframe tbody tr th:only-of-type {\n",
       "        vertical-align: middle;\n",
       "    }\n",
       "\n",
       "    .dataframe tbody tr th {\n",
       "        vertical-align: top;\n",
       "    }\n",
       "\n",
       "    .dataframe thead th {\n",
       "        text-align: right;\n",
       "    }\n",
       "</style>\n",
       "<table border=\"1\" class=\"dataframe\">\n",
       "  <thead>\n",
       "    <tr style=\"text-align: right;\">\n",
       "      <th></th>\n",
       "      <th>state</th>\n",
       "      <th>num_fires</th>\n",
       "      <th>num_acres_burned</th>\n",
       "    </tr>\n",
       "  </thead>\n",
       "  <tbody>\n",
       "    <tr>\n",
       "      <th>0</th>\n",
       "      <td>Alabama</td>\n",
       "      <td>1,040</td>\n",
       "      <td>22,055</td>\n",
       "    </tr>\n",
       "    <tr>\n",
       "      <th>1</th>\n",
       "      <td>Alaska</td>\n",
       "      <td>384</td>\n",
       "      <td>253,357</td>\n",
       "    </tr>\n",
       "    <tr>\n",
       "      <th>2</th>\n",
       "      <td>Arizona</td>\n",
       "      <td>1,773</td>\n",
       "      <td>524,428</td>\n",
       "    </tr>\n",
       "    <tr>\n",
       "      <th>3</th>\n",
       "      <td>Arkansas</td>\n",
       "      <td>378</td>\n",
       "      <td>17,003</td>\n",
       "    </tr>\n",
       "    <tr>\n",
       "      <th>4</th>\n",
       "      <td>California</td>\n",
       "      <td>9,260</td>\n",
       "      <td>2,233,666</td>\n",
       "    </tr>\n",
       "  </tbody>\n",
       "</table>\n",
       "</div>"
      ],
      "text/plain": [
       "        state num_fires num_acres_burned\n",
       "0     Alabama     1,040           22,055\n",
       "1      Alaska       384          253,357\n",
       "2     Arizona     1,773          524,428\n",
       "3    Arkansas       378           17,003\n",
       "4  California     9,260        2,233,666"
      ]
     },
     "execution_count": 16,
     "metadata": {},
     "output_type": "execute_result"
    }
   ],
   "source": [
    "states = []\n",
    "for row in second_table.find_all('tr')[1:]:\n",
    "    state = {}\n",
    "    state['state'] = row.find_all('td')[0].text.strip()\n",
    "    state['num_fires'] = row.find_all('td')[1].text.strip()\n",
    "    state['num_acres_burned'] = row.find_all('td')[2].text.strip()\n",
    "    states.append(state)\n",
    "wildfires_by_state_df = pd.DataFrame(states)\n",
    "wildfires_by_state_df.head()"
   ]
  },
  {
   "cell_type": "code",
   "execution_count": 17,
   "id": "1a0c7afb-f2c9-4359-8ac1-010aae4e9c28",
   "metadata": {},
   "outputs": [],
   "source": [
    "remove_punctuation(wildfires_by_state_df['num_fires'], ',')"
   ]
  },
  {
   "cell_type": "code",
   "execution_count": 18,
   "id": "2c318668-4f68-4ed0-85bd-bc277f28bae5",
   "metadata": {},
   "outputs": [],
   "source": [
    "remove_punctuation(wildfires_by_state_df['num_acres_burned'], ',')"
   ]
  },
  {
   "cell_type": "code",
   "execution_count": 19,
   "id": "60040bd5-bac7-459b-b212-35bae9e4b215",
   "metadata": {},
   "outputs": [],
   "source": [
    "# Set columns to integer\n",
    "wildfires_by_state_df['num_fires'] = wildfires_by_state_df['num_fires'].astype(int)\n",
    "wildfires_by_state_df['num_acres_burned'] = wildfires_by_state_df['num_acres_burned'].astype(int)"
   ]
  },
  {
   "cell_type": "code",
   "execution_count": 20,
   "id": "3bad355f-5c77-4916-ad88-0d08749ed5cf",
   "metadata": {},
   "outputs": [
    {
     "data": {
      "text/html": [
       "<div>\n",
       "<style scoped>\n",
       "    .dataframe tbody tr th:only-of-type {\n",
       "        vertical-align: middle;\n",
       "    }\n",
       "\n",
       "    .dataframe tbody tr th {\n",
       "        vertical-align: top;\n",
       "    }\n",
       "\n",
       "    .dataframe thead th {\n",
       "        text-align: right;\n",
       "    }\n",
       "</style>\n",
       "<table border=\"1\" class=\"dataframe\">\n",
       "  <thead>\n",
       "    <tr style=\"text-align: right;\">\n",
       "      <th></th>\n",
       "      <th>state</th>\n",
       "      <th>num_fires</th>\n",
       "      <th>num_acres_burned</th>\n",
       "    </tr>\n",
       "  </thead>\n",
       "  <tbody>\n",
       "    <tr>\n",
       "      <th>0</th>\n",
       "      <td>Alabama</td>\n",
       "      <td>1040</td>\n",
       "      <td>22055</td>\n",
       "    </tr>\n",
       "    <tr>\n",
       "      <th>1</th>\n",
       "      <td>Alaska</td>\n",
       "      <td>384</td>\n",
       "      <td>253357</td>\n",
       "    </tr>\n",
       "    <tr>\n",
       "      <th>2</th>\n",
       "      <td>Arizona</td>\n",
       "      <td>1773</td>\n",
       "      <td>524428</td>\n",
       "    </tr>\n",
       "    <tr>\n",
       "      <th>3</th>\n",
       "      <td>Arkansas</td>\n",
       "      <td>378</td>\n",
       "      <td>17003</td>\n",
       "    </tr>\n",
       "    <tr>\n",
       "      <th>4</th>\n",
       "      <td>California</td>\n",
       "      <td>9260</td>\n",
       "      <td>2233666</td>\n",
       "    </tr>\n",
       "  </tbody>\n",
       "</table>\n",
       "</div>"
      ],
      "text/plain": [
       "        state  num_fires  num_acres_burned\n",
       "0     Alabama       1040             22055\n",
       "1      Alaska        384            253357\n",
       "2     Arizona       1773            524428\n",
       "3    Arkansas        378             17003\n",
       "4  California       9260           2233666"
      ]
     },
     "execution_count": 20,
     "metadata": {},
     "output_type": "execute_result"
    }
   ],
   "source": [
    "# sort df\n",
    "wildfires_by_state_df.sort_values('state', ascending=True)\n",
    "wildfires_by_state_df.head()"
   ]
  },
  {
   "cell_type": "code",
   "execution_count": 21,
   "id": "87951259-8773-40a5-9ed4-e481431eb2a7",
   "metadata": {},
   "outputs": [],
   "source": [
    "wildfires_by_state_df.to_csv('./Data/wildfires_by_state_2021.csv', index=False)"
   ]
  },
  {
   "cell_type": "markdown",
   "id": "6bd6f105-c61e-449e-be05-f05a6a77855a",
   "metadata": {},
   "source": [
    "### Top 10 States for Wildfires Ranked by Number of Fires(2021)"
   ]
  },
  {
   "cell_type": "code",
   "execution_count": 22,
   "id": "828de56d-344c-43fa-a55b-943b74571862",
   "metadata": {},
   "outputs": [
    {
     "data": {
      "text/plain": [
       "'Rank\\nState\\nNumber of fires\\nRank\\nState\\nNumber of ac'"
      ]
     },
     "execution_count": 22,
     "metadata": {},
     "output_type": "execute_result"
    }
   ],
   "source": [
    "third_soup = BeautifulSoup(res.text, 'lxml')\n",
    "\n",
    "third_table = third_soup.find_all('table', {'class': 'tablesorter'})[2]\n",
    "third_table.text[:50]"
   ]
  },
  {
   "cell_type": "code",
   "execution_count": 23,
   "id": "24b19d6c-c115-4570-b5e7-7f233b6df018",
   "metadata": {},
   "outputs": [
    {
     "data": {
      "text/html": [
       "<div>\n",
       "<style scoped>\n",
       "    .dataframe tbody tr th:only-of-type {\n",
       "        vertical-align: middle;\n",
       "    }\n",
       "\n",
       "    .dataframe tbody tr th {\n",
       "        vertical-align: top;\n",
       "    }\n",
       "\n",
       "    .dataframe thead th {\n",
       "        text-align: right;\n",
       "    }\n",
       "</style>\n",
       "<table border=\"1\" class=\"dataframe\">\n",
       "  <thead>\n",
       "    <tr style=\"text-align: right;\">\n",
       "      <th></th>\n",
       "      <th>rank</th>\n",
       "      <th>state</th>\n",
       "      <th>num_fires</th>\n",
       "    </tr>\n",
       "  </thead>\n",
       "  <tbody>\n",
       "    <tr>\n",
       "      <th>0</th>\n",
       "      <td>1</td>\n",
       "      <td>California</td>\n",
       "      <td>9,260</td>\n",
       "    </tr>\n",
       "    <tr>\n",
       "      <th>1</th>\n",
       "      <td>2</td>\n",
       "      <td>Texas</td>\n",
       "      <td>5,576</td>\n",
       "    </tr>\n",
       "    <tr>\n",
       "      <th>2</th>\n",
       "      <td>3</td>\n",
       "      <td>North Carolina</td>\n",
       "      <td>5,151</td>\n",
       "    </tr>\n",
       "    <tr>\n",
       "      <th>3</th>\n",
       "      <td>4</td>\n",
       "      <td>Montana</td>\n",
       "      <td>2,573</td>\n",
       "    </tr>\n",
       "    <tr>\n",
       "      <th>4</th>\n",
       "      <td>5</td>\n",
       "      <td>Florida</td>\n",
       "      <td>2,262</td>\n",
       "    </tr>\n",
       "  </tbody>\n",
       "</table>\n",
       "</div>"
      ],
      "text/plain": [
       "  rank           state num_fires\n",
       "0    1      California     9,260\n",
       "1    2           Texas     5,576\n",
       "2    3  North Carolina     5,151\n",
       "3    4         Montana     2,573\n",
       "4    5         Florida     2,262"
      ]
     },
     "execution_count": 23,
     "metadata": {},
     "output_type": "execute_result"
    }
   ],
   "source": [
    "states = []\n",
    "for row in third_table.find_all('tr')[1:]:\n",
    "    state = {}\n",
    "    state['rank'] = row.find_all('td')[0].text.strip()\n",
    "    state['state'] = row.find_all('td')[1].text.strip()\n",
    "    state['num_fires'] = row.find_all('td')[2].text.strip()\n",
    "    states.append(state)\n",
    "top_10_no_of_wildfires = pd.DataFrame(states)\n",
    "top_10_no_of_wildfires.head()"
   ]
  },
  {
   "cell_type": "code",
   "execution_count": 24,
   "id": "48d4ad03-6fa3-4791-b3ae-74231c6a227c",
   "metadata": {},
   "outputs": [],
   "source": [
    "remove_punctuation(top_10_no_of_wildfires['num_fires'], ',')"
   ]
  },
  {
   "cell_type": "code",
   "execution_count": 25,
   "id": "96a7330e-801d-4336-b541-76b95297c7c1",
   "metadata": {},
   "outputs": [],
   "source": [
    "# Convert series to integer\n",
    "top_10_no_of_wildfires['num_fires'] = top_10_no_of_wildfires['num_fires'].astype(int)"
   ]
  },
  {
   "cell_type": "code",
   "execution_count": 26,
   "id": "50513803-0c9b-4bb0-9ed8-eb03114dba80",
   "metadata": {},
   "outputs": [
    {
     "data": {
      "text/html": [
       "<div>\n",
       "<style scoped>\n",
       "    .dataframe tbody tr th:only-of-type {\n",
       "        vertical-align: middle;\n",
       "    }\n",
       "\n",
       "    .dataframe tbody tr th {\n",
       "        vertical-align: top;\n",
       "    }\n",
       "\n",
       "    .dataframe thead th {\n",
       "        text-align: right;\n",
       "    }\n",
       "</style>\n",
       "<table border=\"1\" class=\"dataframe\">\n",
       "  <thead>\n",
       "    <tr style=\"text-align: right;\">\n",
       "      <th></th>\n",
       "      <th>rank</th>\n",
       "      <th>state</th>\n",
       "      <th>num_fires</th>\n",
       "    </tr>\n",
       "  </thead>\n",
       "  <tbody>\n",
       "    <tr>\n",
       "      <th>0</th>\n",
       "      <td>1</td>\n",
       "      <td>California</td>\n",
       "      <td>9260</td>\n",
       "    </tr>\n",
       "    <tr>\n",
       "      <th>1</th>\n",
       "      <td>2</td>\n",
       "      <td>Texas</td>\n",
       "      <td>5576</td>\n",
       "    </tr>\n",
       "    <tr>\n",
       "      <th>2</th>\n",
       "      <td>3</td>\n",
       "      <td>North Carolina</td>\n",
       "      <td>5151</td>\n",
       "    </tr>\n",
       "    <tr>\n",
       "      <th>3</th>\n",
       "      <td>4</td>\n",
       "      <td>Montana</td>\n",
       "      <td>2573</td>\n",
       "    </tr>\n",
       "    <tr>\n",
       "      <th>4</th>\n",
       "      <td>5</td>\n",
       "      <td>Florida</td>\n",
       "      <td>2262</td>\n",
       "    </tr>\n",
       "  </tbody>\n",
       "</table>\n",
       "</div>"
      ],
      "text/plain": [
       "  rank           state  num_fires\n",
       "0    1      California       9260\n",
       "1    2           Texas       5576\n",
       "2    3  North Carolina       5151\n",
       "3    4         Montana       2573\n",
       "4    5         Florida       2262"
      ]
     },
     "execution_count": 26,
     "metadata": {},
     "output_type": "execute_result"
    }
   ],
   "source": [
    "# sort df\n",
    "top_10_no_of_wildfires.sort_values('num_fires', ascending=False)\n",
    "top_10_no_of_wildfires.head()"
   ]
  },
  {
   "cell_type": "code",
   "execution_count": 28,
   "id": "a2475d48-35b3-46f5-9ca3-23de9fc57ec9",
   "metadata": {},
   "outputs": [],
   "source": [
    "top_10_no_of_wildfires.to_csv('./Data/top_10_states_for_wf_2021.csv', index=False)"
   ]
  },
  {
   "cell_type": "markdown",
   "id": "d57a9124-ff74-4707-b126-6062e8a07421",
   "metadata": {},
   "source": [
    "### Top 10 States for Wildfires Ranked by Number of Acres Burned (2021)"
   ]
  },
  {
   "cell_type": "code",
   "execution_count": 29,
   "id": "47131863-4fff-404b-bfc2-f36b65df2d8a",
   "metadata": {},
   "outputs": [
    {
     "data": {
      "text/plain": [
       "'Rank\\nState\\nNumber of fires\\nRank\\nState\\nNumber of ac'"
      ]
     },
     "execution_count": 29,
     "metadata": {},
     "output_type": "execute_result"
    }
   ],
   "source": [
    "fourth_soup = BeautifulSoup(res.text, 'lxml')\n",
    "\n",
    "fourth_table = fourth_soup.find_all('table', {'class': 'tablesorter'})[2]\n",
    "fourth_table.text[:50]"
   ]
  },
  {
   "cell_type": "code",
   "execution_count": 30,
   "id": "b8d830f3-212e-45cf-aed2-96a705144d2c",
   "metadata": {},
   "outputs": [
    {
     "data": {
      "text/html": [
       "<div>\n",
       "<style scoped>\n",
       "    .dataframe tbody tr th:only-of-type {\n",
       "        vertical-align: middle;\n",
       "    }\n",
       "\n",
       "    .dataframe tbody tr th {\n",
       "        vertical-align: top;\n",
       "    }\n",
       "\n",
       "    .dataframe thead th {\n",
       "        text-align: right;\n",
       "    }\n",
       "</style>\n",
       "<table border=\"1\" class=\"dataframe\">\n",
       "  <thead>\n",
       "    <tr style=\"text-align: right;\">\n",
       "      <th></th>\n",
       "      <th>rank</th>\n",
       "      <th>state</th>\n",
       "      <th>num_acres_burned</th>\n",
       "    </tr>\n",
       "  </thead>\n",
       "  <tbody>\n",
       "    <tr>\n",
       "      <th>0</th>\n",
       "      <td>1</td>\n",
       "      <td>California</td>\n",
       "      <td>2,233,666</td>\n",
       "    </tr>\n",
       "    <tr>\n",
       "      <th>1</th>\n",
       "      <td>2</td>\n",
       "      <td>Oregon</td>\n",
       "      <td>828,777</td>\n",
       "    </tr>\n",
       "    <tr>\n",
       "      <th>2</th>\n",
       "      <td>3</td>\n",
       "      <td>Montana</td>\n",
       "      <td>747,678</td>\n",
       "    </tr>\n",
       "    <tr>\n",
       "      <th>3</th>\n",
       "      <td>4</td>\n",
       "      <td>Washisngton</td>\n",
       "      <td>674,222</td>\n",
       "    </tr>\n",
       "    <tr>\n",
       "      <th>4</th>\n",
       "      <td>5</td>\n",
       "      <td>Arizona</td>\n",
       "      <td>524,428</td>\n",
       "    </tr>\n",
       "  </tbody>\n",
       "</table>\n",
       "</div>"
      ],
      "text/plain": [
       "  rank        state num_acres_burned\n",
       "0    1   California        2,233,666\n",
       "1    2       Oregon          828,777\n",
       "2    3      Montana          747,678\n",
       "3    4  Washisngton          674,222\n",
       "4    5      Arizona          524,428"
      ]
     },
     "execution_count": 30,
     "metadata": {},
     "output_type": "execute_result"
    }
   ],
   "source": [
    "states = []\n",
    "for row in fourth_table.find_all('tr')[1:]:\n",
    "    state = {}\n",
    "    state['rank'] = row.find_all('td')[3].text.strip()\n",
    "    state['state'] = row.find_all('td')[4].text.strip()\n",
    "    state['num_acres_burned'] = row.find_all('td')[5].text.strip()\n",
    "    states.append(state)\n",
    "top_10_acres_wildfires = pd.DataFrame(states)\n",
    "top_10_acres_wildfires.head()"
   ]
  },
  {
   "cell_type": "code",
   "execution_count": 31,
   "id": "800da06c-1605-475d-9f2d-c014ba1fa27c",
   "metadata": {},
   "outputs": [],
   "source": [
    "remove_punctuation(top_10_acres_wildfires['num_acres_burned'], ',')"
   ]
  },
  {
   "cell_type": "code",
   "execution_count": 32,
   "id": "1b13282a-8207-4b24-963f-e07a7800b613",
   "metadata": {},
   "outputs": [],
   "source": [
    "# Convert series to int\n",
    "top_10_acres_wildfires['num_acres_burned'] = top_10_acres_wildfires['num_acres_burned'].astype(int)"
   ]
  },
  {
   "cell_type": "code",
   "execution_count": 33,
   "id": "de71f898-c791-43a3-996a-71af91c6345a",
   "metadata": {},
   "outputs": [
    {
     "data": {
      "text/html": [
       "<div>\n",
       "<style scoped>\n",
       "    .dataframe tbody tr th:only-of-type {\n",
       "        vertical-align: middle;\n",
       "    }\n",
       "\n",
       "    .dataframe tbody tr th {\n",
       "        vertical-align: top;\n",
       "    }\n",
       "\n",
       "    .dataframe thead th {\n",
       "        text-align: right;\n",
       "    }\n",
       "</style>\n",
       "<table border=\"1\" class=\"dataframe\">\n",
       "  <thead>\n",
       "    <tr style=\"text-align: right;\">\n",
       "      <th></th>\n",
       "      <th>rank</th>\n",
       "      <th>state</th>\n",
       "      <th>num_acres_burned</th>\n",
       "    </tr>\n",
       "  </thead>\n",
       "  <tbody>\n",
       "    <tr>\n",
       "      <th>0</th>\n",
       "      <td>1</td>\n",
       "      <td>California</td>\n",
       "      <td>2233666</td>\n",
       "    </tr>\n",
       "    <tr>\n",
       "      <th>1</th>\n",
       "      <td>2</td>\n",
       "      <td>Oregon</td>\n",
       "      <td>828777</td>\n",
       "    </tr>\n",
       "    <tr>\n",
       "      <th>2</th>\n",
       "      <td>3</td>\n",
       "      <td>Montana</td>\n",
       "      <td>747678</td>\n",
       "    </tr>\n",
       "    <tr>\n",
       "      <th>3</th>\n",
       "      <td>4</td>\n",
       "      <td>Washisngton</td>\n",
       "      <td>674222</td>\n",
       "    </tr>\n",
       "    <tr>\n",
       "      <th>4</th>\n",
       "      <td>5</td>\n",
       "      <td>Arizona</td>\n",
       "      <td>524428</td>\n",
       "    </tr>\n",
       "  </tbody>\n",
       "</table>\n",
       "</div>"
      ],
      "text/plain": [
       "  rank        state  num_acres_burned\n",
       "0    1   California           2233666\n",
       "1    2       Oregon            828777\n",
       "2    3      Montana            747678\n",
       "3    4  Washisngton            674222\n",
       "4    5      Arizona            524428"
      ]
     },
     "execution_count": 33,
     "metadata": {},
     "output_type": "execute_result"
    }
   ],
   "source": [
    "# sort df\n",
    "top_10_acres_wildfires.sort_values('num_acres_burned', ascending=False)\n",
    "top_10_acres_wildfires.head()"
   ]
  },
  {
   "cell_type": "code",
   "execution_count": 34,
   "id": "5556e387-2eea-49eb-b6c0-daf53b79e1d1",
   "metadata": {},
   "outputs": [],
   "source": [
    "top_10_acres_wildfires.to_csv('./Data/top_10_states_for_wf_acres_2021.csv', index=False)"
   ]
  },
  {
   "cell_type": "markdown",
   "id": "19c4d5bc-eb62-4b4a-9149-e2efa27ee8d9",
   "metadata": {},
   "source": [
    "### Top 10 Costliest Wildfires in the United States (in millions)"
   ]
  },
  {
   "cell_type": "code",
   "execution_count": 35,
   "id": "a7c856a4-16d1-4300-8070-8149f6be5e1c",
   "metadata": {},
   "outputs": [
    {
     "data": {
      "text/plain": [
       "'\\xa0\\n\\xa0\\n\\xa0\\nEstimated insured loss\\nRank\\nYear\\nName\\nDollar'"
      ]
     },
     "execution_count": 35,
     "metadata": {},
     "output_type": "execute_result"
    }
   ],
   "source": [
    "fifth_soup = BeautifulSoup(res.text, 'lxml')\n",
    "\n",
    "fifth_table = fifth_soup.find_all('table', {'class': 'tablesorter'})[3]\n",
    "fifth_table.text[:50]"
   ]
  },
  {
   "cell_type": "code",
   "execution_count": 36,
   "id": "1c41c0c6-630d-44cb-ab71-d3b6780128f4",
   "metadata": {},
   "outputs": [
    {
     "data": {
      "text/html": [
       "<div>\n",
       "<style scoped>\n",
       "    .dataframe tbody tr th:only-of-type {\n",
       "        vertical-align: middle;\n",
       "    }\n",
       "\n",
       "    .dataframe tbody tr th {\n",
       "        vertical-align: top;\n",
       "    }\n",
       "\n",
       "    .dataframe thead th {\n",
       "        text-align: right;\n",
       "    }\n",
       "</style>\n",
       "<table border=\"1\" class=\"dataframe\">\n",
       "  <thead>\n",
       "    <tr style=\"text-align: right;\">\n",
       "      <th></th>\n",
       "      <th>rank</th>\n",
       "      <th>year</th>\n",
       "      <th>name</th>\n",
       "      <th>dollars_when_occured</th>\n",
       "      <th>in_2021_dollars</th>\n",
       "    </tr>\n",
       "  </thead>\n",
       "  <tbody>\n",
       "    <tr>\n",
       "      <th>0</th>\n",
       "      <td>1</td>\n",
       "      <td>2018</td>\n",
       "      <td>Camp Fire</td>\n",
       "      <td>$10,000</td>\n",
       "      <td>$10,750</td>\n",
       "    </tr>\n",
       "    <tr>\n",
       "      <th>1</th>\n",
       "      <td>2</td>\n",
       "      <td>2017</td>\n",
       "      <td>Tubbs Fire</td>\n",
       "      <td>8,700</td>\n",
       "      <td>9,560</td>\n",
       "    </tr>\n",
       "    <tr>\n",
       "      <th>2</th>\n",
       "      <td>3</td>\n",
       "      <td>2018</td>\n",
       "      <td>Woolsey Fire</td>\n",
       "      <td>4,200</td>\n",
       "      <td>4,520</td>\n",
       "    </tr>\n",
       "    <tr>\n",
       "      <th>3</th>\n",
       "      <td>4</td>\n",
       "      <td>1991</td>\n",
       "      <td>Oakland Fire (Tunnel)</td>\n",
       "      <td>1,700</td>\n",
       "      <td>3,350</td>\n",
       "    </tr>\n",
       "    <tr>\n",
       "      <th>4</th>\n",
       "      <td>5</td>\n",
       "      <td>2017</td>\n",
       "      <td>Atlas Fire</td>\n",
       "      <td>3,000</td>\n",
       "      <td>3,300</td>\n",
       "    </tr>\n",
       "  </tbody>\n",
       "</table>\n",
       "</div>"
      ],
      "text/plain": [
       "  rank  year                   name dollars_when_occured in_2021_dollars\n",
       "0    1  2018              Camp Fire              $10,000         $10,750\n",
       "1    2  2017             Tubbs Fire                8,700           9,560\n",
       "2    3  2018           Woolsey Fire                4,200           4,520\n",
       "3    4  1991  Oakland Fire (Tunnel)                1,700           3,350\n",
       "4    5  2017             Atlas Fire                3,000           3,300"
      ]
     },
     "execution_count": 36,
     "metadata": {},
     "output_type": "execute_result"
    }
   ],
   "source": [
    "fires = []\n",
    "for row in fifth_table.find_all('tr')[2:]:\n",
    "    fire = {}\n",
    "    fire['rank'] = row.find_all('td')[0].text.strip()\n",
    "    fire['year'] = row.find_all('td')[1].text.strip()\n",
    "    fire['name'] = row.find_all('td')[2].text.strip()\n",
    "    fire['dollars_when_occured'] = row.find_all('td')[3].text.strip()\n",
    "    fire['in_2021_dollars'] = row.find_all('td')[4].text.strip()\n",
    "    fires.append(fire)\n",
    "costliest_fires_df = pd.DataFrame(fires)\n",
    "costliest_fires_df.head()"
   ]
  },
  {
   "cell_type": "code",
   "execution_count": 37,
   "id": "b8aca5f4-55cd-4285-b0b0-01c07eadc311",
   "metadata": {},
   "outputs": [],
   "source": [
    "remove_punctuation(costliest_fires_df['dollars_when_occured'], ',')"
   ]
  },
  {
   "cell_type": "code",
   "execution_count": 38,
   "id": "191d588c-5646-4c5b-b344-e588a6727861",
   "metadata": {},
   "outputs": [],
   "source": [
    "remove_punctuation(costliest_fires_df['in_2021_dollars'], ',')"
   ]
  },
  {
   "cell_type": "code",
   "execution_count": 39,
   "id": "9b9fac1e-5259-443e-8fdc-143a47dde5de",
   "metadata": {},
   "outputs": [],
   "source": [
    "# remove $ sign (for some reason, function didn't pick it up)\n",
    "costliest_fires_df['dollars_when_occured'].replace('$10000','10000', inplace=True)\n",
    "costliest_fires_df['in_2021_dollars'].replace('$10750','10750', inplace=True)"
   ]
  },
  {
   "cell_type": "code",
   "execution_count": 40,
   "id": "bfd392f2-6f01-491a-98e3-cbd3332d8e90",
   "metadata": {},
   "outputs": [],
   "source": [
    "# Convert series to int\n",
    "costliest_fires_df['dollars_when_occured'] = costliest_fires_df['dollars_when_occured'].astype(int)\n",
    "costliest_fires_df['in_2021_dollars'] = costliest_fires_df['in_2021_dollars'].astype(int)"
   ]
  },
  {
   "cell_type": "code",
   "execution_count": 41,
   "id": "0b859341-9e76-44ae-8d22-1b5e771be06b",
   "metadata": {},
   "outputs": [
    {
     "data": {
      "text/html": [
       "<div>\n",
       "<style scoped>\n",
       "    .dataframe tbody tr th:only-of-type {\n",
       "        vertical-align: middle;\n",
       "    }\n",
       "\n",
       "    .dataframe tbody tr th {\n",
       "        vertical-align: top;\n",
       "    }\n",
       "\n",
       "    .dataframe thead th {\n",
       "        text-align: right;\n",
       "    }\n",
       "</style>\n",
       "<table border=\"1\" class=\"dataframe\">\n",
       "  <thead>\n",
       "    <tr style=\"text-align: right;\">\n",
       "      <th></th>\n",
       "      <th>rank</th>\n",
       "      <th>year</th>\n",
       "      <th>name</th>\n",
       "      <th>dollars_when_occured</th>\n",
       "      <th>in_2021_dollars</th>\n",
       "    </tr>\n",
       "  </thead>\n",
       "  <tbody>\n",
       "    <tr>\n",
       "      <th>0</th>\n",
       "      <td>1</td>\n",
       "      <td>2018</td>\n",
       "      <td>Camp Fire</td>\n",
       "      <td>10000</td>\n",
       "      <td>10750</td>\n",
       "    </tr>\n",
       "    <tr>\n",
       "      <th>1</th>\n",
       "      <td>2</td>\n",
       "      <td>2017</td>\n",
       "      <td>Tubbs Fire</td>\n",
       "      <td>8700</td>\n",
       "      <td>9560</td>\n",
       "    </tr>\n",
       "    <tr>\n",
       "      <th>2</th>\n",
       "      <td>3</td>\n",
       "      <td>2018</td>\n",
       "      <td>Woolsey Fire</td>\n",
       "      <td>4200</td>\n",
       "      <td>4520</td>\n",
       "    </tr>\n",
       "    <tr>\n",
       "      <th>3</th>\n",
       "      <td>4</td>\n",
       "      <td>1991</td>\n",
       "      <td>Oakland Fire (Tunnel)</td>\n",
       "      <td>1700</td>\n",
       "      <td>3350</td>\n",
       "    </tr>\n",
       "    <tr>\n",
       "      <th>4</th>\n",
       "      <td>5</td>\n",
       "      <td>2017</td>\n",
       "      <td>Atlas Fire</td>\n",
       "      <td>3000</td>\n",
       "      <td>3300</td>\n",
       "    </tr>\n",
       "  </tbody>\n",
       "</table>\n",
       "</div>"
      ],
      "text/plain": [
       "  rank  year                   name  dollars_when_occured  in_2021_dollars\n",
       "0    1  2018              Camp Fire                 10000            10750\n",
       "1    2  2017             Tubbs Fire                  8700             9560\n",
       "2    3  2018           Woolsey Fire                  4200             4520\n",
       "3    4  1991  Oakland Fire (Tunnel)                  1700             3350\n",
       "4    5  2017             Atlas Fire                  3000             3300"
      ]
     },
     "execution_count": 41,
     "metadata": {},
     "output_type": "execute_result"
    }
   ],
   "source": [
    "# sort df\n",
    "costliest_fires_df.sort_values('in_2021_dollars', ascending=False)\n",
    "costliest_fires_df.head()"
   ]
  },
  {
   "cell_type": "code",
   "execution_count": 42,
   "id": "3c95541f-23a4-461c-b969-11718e913cfd",
   "metadata": {},
   "outputs": [],
   "source": [
    "costliest_fires_df.to_csv('./Data/top_10_costliest_wf.csv', index=False)"
   ]
  },
  {
   "cell_type": "markdown",
   "id": "ec39ec3c-9c93-4d50-8ed6-cec01a70e60f",
   "metadata": {},
   "source": [
    "### Top 10 Largest California Wildfires"
   ]
  },
  {
   "cell_type": "code",
   "execution_count": 43,
   "id": "089ecb79-5247-4c65-b47a-b84cdf977ef5",
   "metadata": {},
   "outputs": [
    {
     "data": {
      "text/plain": [
       "'Rank\\nFire name (cause)\\nDate\\nCounty\\nAcres\\nStructure'"
      ]
     },
     "execution_count": 43,
     "metadata": {},
     "output_type": "execute_result"
    }
   ],
   "source": [
    "sixth_soup = BeautifulSoup(res.text, 'lxml')\n",
    "\n",
    "sixth_table = sixth_soup.find_all('table', {'class': 'tablesorter'})[4]\n",
    "sixth_table.text[:50]"
   ]
  },
  {
   "cell_type": "code",
   "execution_count": 44,
   "id": "ecb2a3bb-3a6f-4116-b948-a4585898617b",
   "metadata": {},
   "outputs": [
    {
     "data": {
      "text/html": [
       "<div>\n",
       "<style scoped>\n",
       "    .dataframe tbody tr th:only-of-type {\n",
       "        vertical-align: middle;\n",
       "    }\n",
       "\n",
       "    .dataframe tbody tr th {\n",
       "        vertical-align: top;\n",
       "    }\n",
       "\n",
       "    .dataframe thead th {\n",
       "        text-align: right;\n",
       "    }\n",
       "</style>\n",
       "<table border=\"1\" class=\"dataframe\">\n",
       "  <thead>\n",
       "    <tr style=\"text-align: right;\">\n",
       "      <th></th>\n",
       "      <th>rank</th>\n",
       "      <th>fire_name_cause</th>\n",
       "      <th>date</th>\n",
       "      <th>county</th>\n",
       "    </tr>\n",
       "  </thead>\n",
       "  <tbody>\n",
       "    <tr>\n",
       "      <th>0</th>\n",
       "      <td>1</td>\n",
       "      <td>August Complex (Lightning)</td>\n",
       "      <td>August 2020</td>\n",
       "      <td>Mendocino, Humboldt, Trinity, Tehama, Glenn, L...</td>\n",
       "    </tr>\n",
       "    <tr>\n",
       "      <th>1</th>\n",
       "      <td>2</td>\n",
       "      <td>Dixie (Under investigation)</td>\n",
       "      <td>July 2021</td>\n",
       "      <td>Butte, Plumas, Lassen, Shasta, and Tehama</td>\n",
       "    </tr>\n",
       "    <tr>\n",
       "      <th>2</th>\n",
       "      <td>3</td>\n",
       "      <td>Mendocino Complex (Human related)</td>\n",
       "      <td>July 2018</td>\n",
       "      <td>Colusa, Lake,Mendocino and Glenn</td>\n",
       "    </tr>\n",
       "    <tr>\n",
       "      <th>3</th>\n",
       "      <td>4</td>\n",
       "      <td>SCU Lightning Complex (Lightning)</td>\n",
       "      <td>August 2020</td>\n",
       "      <td>Stanislaus, Santa Clara, Alameda, Contra Costa...</td>\n",
       "    </tr>\n",
       "    <tr>\n",
       "      <th>4</th>\n",
       "      <td>5</td>\n",
       "      <td>Creek Fire (Undetermined)</td>\n",
       "      <td>September 2020</td>\n",
       "      <td>Fresno and Madera</td>\n",
       "    </tr>\n",
       "  </tbody>\n",
       "</table>\n",
       "</div>"
      ],
      "text/plain": [
       "  rank                    fire_name_cause            date  \\\n",
       "0    1         August Complex (Lightning)     August 2020   \n",
       "1    2        Dixie (Under investigation)       July 2021   \n",
       "2    3  Mendocino Complex (Human related)       July 2018   \n",
       "3    4  SCU Lightning Complex (Lightning)     August 2020   \n",
       "4    5          Creek Fire (Undetermined)  September 2020   \n",
       "\n",
       "                                              county  \n",
       "0  Mendocino, Humboldt, Trinity, Tehama, Glenn, L...  \n",
       "1          Butte, Plumas, Lassen, Shasta, and Tehama  \n",
       "2                   Colusa, Lake,Mendocino and Glenn  \n",
       "3  Stanislaus, Santa Clara, Alameda, Contra Costa...  \n",
       "4                                  Fresno and Madera  "
      ]
     },
     "execution_count": 44,
     "metadata": {},
     "output_type": "execute_result"
    }
   ],
   "source": [
    "fires_ca = []\n",
    "for row in sixth_table.find_all('tr')[1:]:\n",
    "    fire = {}\n",
    "    fire['rank'] = row.find_all('td')[0].text.strip()\n",
    "    fire['fire_name_cause'] = row.find_all('td')[1].text.strip()\n",
    "    fire['date'] = row.find_all('td')[2].text.strip()\n",
    "    fire['county'] = row.find_all('td')[3].text.strip()\n",
    "    fires_ca.append(fire)\n",
    "ca_largest_wf_df = pd.DataFrame(fires_ca)\n",
    "ca_largest_wf_df.head()"
   ]
  },
  {
   "cell_type": "code",
   "execution_count": 45,
   "id": "03bea698-a560-477c-b9ab-096526075c19",
   "metadata": {},
   "outputs": [],
   "source": [
    "ca_largest_wf_df.to_csv('./Data/top_10_largest_ca_wf.csv', index=False)"
   ]
  },
  {
   "cell_type": "markdown",
   "id": "75929767-9798-4444-8452-438ac9d34000",
   "metadata": {},
   "source": [
    "### Top 10 Most Destructive California Wildfires"
   ]
  },
  {
   "cell_type": "code",
   "execution_count": 46,
   "id": "30e65943-c50c-4e8a-acd1-34f0860988ba",
   "metadata": {},
   "outputs": [
    {
     "data": {
      "text/plain": [
       "'Rank\\nFire name and cause\\nDate\\nCounty\\nAcres\\nStructu'"
      ]
     },
     "execution_count": 46,
     "metadata": {},
     "output_type": "execute_result"
    }
   ],
   "source": [
    "seventh_soup = BeautifulSoup(res.text, 'lxml')\n",
    "\n",
    "seventh_table = seventh_soup.find_all('table', {'class': 'tablesorter'})[5]\n",
    "seventh_table.text[:50]"
   ]
  },
  {
   "cell_type": "code",
   "execution_count": 47,
   "id": "f321805f-72e7-4615-a40d-67c9d7168254",
   "metadata": {},
   "outputs": [
    {
     "data": {
      "text/html": [
       "<div>\n",
       "<style scoped>\n",
       "    .dataframe tbody tr th:only-of-type {\n",
       "        vertical-align: middle;\n",
       "    }\n",
       "\n",
       "    .dataframe tbody tr th {\n",
       "        vertical-align: top;\n",
       "    }\n",
       "\n",
       "    .dataframe thead th {\n",
       "        text-align: right;\n",
       "    }\n",
       "</style>\n",
       "<table border=\"1\" class=\"dataframe\">\n",
       "  <thead>\n",
       "    <tr style=\"text-align: right;\">\n",
       "      <th></th>\n",
       "      <th>rank</th>\n",
       "      <th>fire_name_cause</th>\n",
       "      <th>date</th>\n",
       "      <th>county</th>\n",
       "      <th>acres</th>\n",
       "      <th>structures</th>\n",
       "    </tr>\n",
       "  </thead>\n",
       "  <tbody>\n",
       "    <tr>\n",
       "      <th>0</th>\n",
       "      <td>1</td>\n",
       "      <td>Camp Fire (Power lines)</td>\n",
       "      <td>November 2018</td>\n",
       "      <td>Butte</td>\n",
       "      <td>153,336</td>\n",
       "      <td>18,804</td>\n",
       "    </tr>\n",
       "    <tr>\n",
       "      <th>1</th>\n",
       "      <td>2</td>\n",
       "      <td>Tubbs (Electrical)</td>\n",
       "      <td>October 2017</td>\n",
       "      <td>Napa and Sonoma</td>\n",
       "      <td>36,807</td>\n",
       "      <td>5,636</td>\n",
       "    </tr>\n",
       "    <tr>\n",
       "      <th>2</th>\n",
       "      <td>3</td>\n",
       "      <td>Tunnel - Oakland Hills (Rekindle)</td>\n",
       "      <td>October 1991</td>\n",
       "      <td>Alameda</td>\n",
       "      <td>1,600</td>\n",
       "      <td>2,900</td>\n",
       "    </tr>\n",
       "    <tr>\n",
       "      <th>3</th>\n",
       "      <td>4</td>\n",
       "      <td>Cedar (Human related)</td>\n",
       "      <td>October 2003</td>\n",
       "      <td>San Diego</td>\n",
       "      <td>273,246</td>\n",
       "      <td>2,820</td>\n",
       "    </tr>\n",
       "    <tr>\n",
       "      <th>4</th>\n",
       "      <td>5</td>\n",
       "      <td>North Complex (Lightning)</td>\n",
       "      <td>August 2020</td>\n",
       "      <td>Butte, Plumas and Yuba</td>\n",
       "      <td>318,935</td>\n",
       "      <td>2,352</td>\n",
       "    </tr>\n",
       "  </tbody>\n",
       "</table>\n",
       "</div>"
      ],
      "text/plain": [
       "  rank                    fire_name_cause           date  \\\n",
       "0    1            Camp Fire (Power lines)  November 2018   \n",
       "1    2                 Tubbs (Electrical)   October 2017   \n",
       "2    3  Tunnel - Oakland Hills (Rekindle)   October 1991   \n",
       "3    4              Cedar (Human related)   October 2003   \n",
       "4    5          North Complex (Lightning)    August 2020   \n",
       "\n",
       "                   county    acres structures  \n",
       "0                   Butte  153,336     18,804  \n",
       "1         Napa and Sonoma   36,807      5,636  \n",
       "2                 Alameda    1,600      2,900  \n",
       "3               San Diego  273,246      2,820  \n",
       "4  Butte, Plumas and Yuba  318,935      2,352  "
      ]
     },
     "execution_count": 47,
     "metadata": {},
     "output_type": "execute_result"
    }
   ],
   "source": [
    "destructive_fires = []\n",
    "for row in seventh_table.find_all('tr')[1:]:\n",
    "    fire = {}\n",
    "    fire['rank'] = row.find_all('td')[0].text.strip()\n",
    "    fire['fire_name_cause'] = row.find_all('td')[1].text.strip()\n",
    "    fire['date'] = row.find_all('td')[2].text.strip()\n",
    "    fire['county'] = row.find_all('td')[3].text.strip()\n",
    "    fire['acres'] = row.find_all('td')[4].text.strip()\n",
    "    fire['structures'] = row.find_all('td')[5].text.strip()\n",
    "    destructive_fires.append(fire)\n",
    "ca_destructive_wf_df = pd.DataFrame(destructive_fires)\n",
    "ca_destructive_wf_df.head()"
   ]
  },
  {
   "cell_type": "code",
   "execution_count": 48,
   "id": "df4e71d2-a430-40ec-85b9-b863fa4007e0",
   "metadata": {},
   "outputs": [],
   "source": [
    "remove_punctuation(ca_destructive_wf_df['acres'], ',')"
   ]
  },
  {
   "cell_type": "code",
   "execution_count": 49,
   "id": "03b7ebc1-bb23-4722-84c9-ee36ce78fe40",
   "metadata": {},
   "outputs": [],
   "source": [
    "remove_punctuation(ca_destructive_wf_df['structures'], ',')"
   ]
  },
  {
   "cell_type": "code",
   "execution_count": 50,
   "id": "6283f761-0e8f-4ab6-90d5-60d64f1ff60e",
   "metadata": {},
   "outputs": [],
   "source": [
    "# Convert series to int\n",
    "ca_destructive_wf_df['acres'] = ca_destructive_wf_df['acres'].astype(int)\n",
    "ca_destructive_wf_df['structures'] = ca_destructive_wf_df['structures'].astype(int)"
   ]
  },
  {
   "cell_type": "code",
   "execution_count": 51,
   "id": "39c97bbe-1619-4754-95ff-bee1fec7b1e7",
   "metadata": {},
   "outputs": [],
   "source": [
    "ca_destructive_wf_df.to_csv('./Data/top_10_destructive_ca_wf.csv', index=False)"
   ]
  },
  {
   "cell_type": "markdown",
   "id": "4da9dc69-afb7-4b93-8a51-ca3b15ba5d95",
   "metadata": {},
   "source": [
    "### Top 10 Deadliest California Wildfires"
   ]
  },
  {
   "cell_type": "code",
   "execution_count": 52,
   "id": "4a9a3646-e5a2-4909-b995-1128aa2c9682",
   "metadata": {},
   "outputs": [
    {
     "data": {
      "text/plain": [
       "'Rank\\nFire name and cause\\nDate\\nCounty\\nAcres\\nStructu'"
      ]
     },
     "execution_count": 52,
     "metadata": {},
     "output_type": "execute_result"
    }
   ],
   "source": [
    "eighth_soup = BeautifulSoup(res.text, 'lxml')\n",
    "\n",
    "eighth_table = eighth_soup.find_all('table', {'class': 'tablesorter'})[6]\n",
    "eighth_table.text[:50]"
   ]
  },
  {
   "cell_type": "code",
   "execution_count": 53,
   "id": "85fb28a5-0f11-4e83-ad9c-12787596d00f",
   "metadata": {},
   "outputs": [
    {
     "data": {
      "text/html": [
       "<div>\n",
       "<style scoped>\n",
       "    .dataframe tbody tr th:only-of-type {\n",
       "        vertical-align: middle;\n",
       "    }\n",
       "\n",
       "    .dataframe tbody tr th {\n",
       "        vertical-align: top;\n",
       "    }\n",
       "\n",
       "    .dataframe thead th {\n",
       "        text-align: right;\n",
       "    }\n",
       "</style>\n",
       "<table border=\"1\" class=\"dataframe\">\n",
       "  <thead>\n",
       "    <tr style=\"text-align: right;\">\n",
       "      <th></th>\n",
       "      <th>rank</th>\n",
       "      <th>fire_name_cause</th>\n",
       "      <th>date</th>\n",
       "      <th>county</th>\n",
       "      <th>acres</th>\n",
       "      <th>structures</th>\n",
       "      <th>deaths</th>\n",
       "    </tr>\n",
       "  </thead>\n",
       "  <tbody>\n",
       "    <tr>\n",
       "      <th>0</th>\n",
       "      <td>1</td>\n",
       "      <td>Camp Fire (Power lines)</td>\n",
       "      <td>November 2018</td>\n",
       "      <td>Butte</td>\n",
       "      <td>153,336</td>\n",
       "      <td>18,804</td>\n",
       "      <td>85</td>\n",
       "    </tr>\n",
       "    <tr>\n",
       "      <th>1</th>\n",
       "      <td>2</td>\n",
       "      <td>Tubbs (Electrical)</td>\n",
       "      <td>October 2017</td>\n",
       "      <td>Napa and Sonoma</td>\n",
       "      <td>36,807</td>\n",
       "      <td>5,636</td>\n",
       "      <td>22</td>\n",
       "    </tr>\n",
       "    <tr>\n",
       "      <th>2</th>\n",
       "      <td>3</td>\n",
       "      <td>Tunnel - Oakland Hills (Rekindle)</td>\n",
       "      <td>October 1991</td>\n",
       "      <td>Alameda</td>\n",
       "      <td>1,600</td>\n",
       "      <td>2,900</td>\n",
       "      <td>25</td>\n",
       "    </tr>\n",
       "    <tr>\n",
       "      <th>3</th>\n",
       "      <td>4</td>\n",
       "      <td>Cedar (Human related)</td>\n",
       "      <td>October 2003</td>\n",
       "      <td>San Diego</td>\n",
       "      <td>273,246</td>\n",
       "      <td>2,820</td>\n",
       "      <td>15</td>\n",
       "    </tr>\n",
       "    <tr>\n",
       "      <th>4</th>\n",
       "      <td>5</td>\n",
       "      <td>North Complex (Lightning)</td>\n",
       "      <td>August 2020</td>\n",
       "      <td>Butte, Plumas and Yuba</td>\n",
       "      <td>318,935</td>\n",
       "      <td>2,352</td>\n",
       "      <td>15</td>\n",
       "    </tr>\n",
       "  </tbody>\n",
       "</table>\n",
       "</div>"
      ],
      "text/plain": [
       "  rank                    fire_name_cause           date  \\\n",
       "0    1            Camp Fire (Power lines)  November 2018   \n",
       "1    2                 Tubbs (Electrical)   October 2017   \n",
       "2    3  Tunnel - Oakland Hills (Rekindle)   October 1991   \n",
       "3    4              Cedar (Human related)   October 2003   \n",
       "4    5          North Complex (Lightning)    August 2020   \n",
       "\n",
       "                   county    acres structures deaths  \n",
       "0                   Butte  153,336     18,804     85  \n",
       "1         Napa and Sonoma   36,807      5,636     22  \n",
       "2                 Alameda    1,600      2,900     25  \n",
       "3               San Diego  273,246      2,820     15  \n",
       "4  Butte, Plumas and Yuba  318,935      2,352     15  "
      ]
     },
     "execution_count": 53,
     "metadata": {},
     "output_type": "execute_result"
    }
   ],
   "source": [
    "deadliest_fires = []\n",
    "for row in seventh_table.find_all('tr')[1:]:\n",
    "    fire = {}\n",
    "    fire['rank'] = row.find_all('td')[0].text.strip()\n",
    "    fire['fire_name_cause'] = row.find_all('td')[1].text.strip()\n",
    "    fire['date'] = row.find_all('td')[2].text.strip()\n",
    "    fire['county'] = row.find_all('td')[3].text.strip()\n",
    "    fire['acres'] = row.find_all('td')[4].text.strip()\n",
    "    fire['structures'] = row.find_all('td')[5].text.strip()\n",
    "    fire['deaths'] = row.find_all('td')[6].text.strip()\n",
    "    deadliest_fires.append(fire)\n",
    "ca_deadliest_wf_df = pd.DataFrame(deadliest_fires)\n",
    "ca_deadliest_wf_df.head()"
   ]
  },
  {
   "cell_type": "code",
   "execution_count": 54,
   "id": "5b18ad72-8871-4536-a73f-0b231beea3ad",
   "metadata": {},
   "outputs": [],
   "source": [
    "remove_punctuation(ca_deadliest_wf_df['acres'], ',')"
   ]
  },
  {
   "cell_type": "code",
   "execution_count": 55,
   "id": "43624ec5-c245-44ee-b86b-1cd7115a62a5",
   "metadata": {},
   "outputs": [],
   "source": [
    "remove_punctuation(ca_deadliest_wf_df['structures'], ',')"
   ]
  },
  {
   "cell_type": "code",
   "execution_count": 56,
   "id": "2e56a78a-990f-4d93-a512-f390abbe76c2",
   "metadata": {},
   "outputs": [],
   "source": [
    "# Convert series to int\n",
    "ca_deadliest_wf_df['acres'] = ca_deadliest_wf_df['acres'].astype(int)\n",
    "ca_deadliest_wf_df['structures'] = ca_deadliest_wf_df['structures'].astype(int)\n",
    "ca_deadliest_wf_df['deaths'] = ca_deadliest_wf_df['deaths'].astype(int)"
   ]
  },
  {
   "cell_type": "code",
   "execution_count": 57,
   "id": "521fcf62-fe70-4dad-a9e0-d4f30817fd21",
   "metadata": {},
   "outputs": [],
   "source": [
    "ca_deadliest_wf_df.to_csv('./Data/top_10_deadliest_ca_wf.csv', index=False)"
   ]
  }
 ],
 "metadata": {
  "environment": {
   "kernel": "python3",
   "name": "tf2-gpu.2-7.m87",
   "type": "gcloud",
   "uri": "gcr.io/deeplearning-platform-release/tf2-gpu.2-7:m87"
  },
  "kernelspec": {
   "display_name": "Python 3",
   "language": "python",
   "name": "python3"
  },
  "language_info": {
   "codemirror_mode": {
    "name": "ipython",
    "version": 3
   },
   "file_extension": ".py",
   "mimetype": "text/x-python",
   "name": "python",
   "nbconvert_exporter": "python",
   "pygments_lexer": "ipython3",
   "version": "3.7.12"
  }
 },
 "nbformat": 4,
 "nbformat_minor": 5
}
